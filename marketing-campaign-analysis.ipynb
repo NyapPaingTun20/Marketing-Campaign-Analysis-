{
 "cells": [
  {
   "cell_type": "code",
   "execution_count": 1,
   "id": "3281cb48",
   "metadata": {
    "_cell_guid": "b1076dfc-b9ad-4769-8c92-a6c4dae69d19",
    "_uuid": "8f2839f25d086af736a60e9eeb907d3b93b6e0e5",
    "execution": {
     "iopub.execute_input": "2025-05-21T22:08:39.866105Z",
     "iopub.status.busy": "2025-05-21T22:08:39.865690Z",
     "iopub.status.idle": "2025-05-21T22:08:42.245545Z",
     "shell.execute_reply": "2025-05-21T22:08:42.244511Z"
    },
    "papermill": {
     "duration": 2.394961,
     "end_time": "2025-05-21T22:08:42.247336",
     "exception": false,
     "start_time": "2025-05-21T22:08:39.852375",
     "status": "completed"
    },
    "tags": []
   },
   "outputs": [
    {
     "name": "stdout",
     "output_type": "stream",
     "text": [
      "/kaggle/input/marketing-campaign-performance-dataset/marketing_campaign_dataset.csv\n"
     ]
    }
   ],
   "source": [
    "# This Python 3 environment comes with many helpful analytics libraries installed\n",
    "# It is defined by the kaggle/python Docker image: https://github.com/kaggle/docker-python\n",
    "# For example, here's several helpful packages to load\n",
    "\n",
    "import numpy as np # linear algebra\n",
    "import pandas as pd # data processing, CSV file I/O (e.g. pd.read_csv)\n",
    "\n",
    "# Input data files are available in the read-only \"../input/\" directory\n",
    "# For example, running this (by clicking run or pressing Shift+Enter) will list all files under the input directory\n",
    "\n",
    "import os\n",
    "for dirname, _, filenames in os.walk('/kaggle/input'):\n",
    "    for filename in filenames:\n",
    "        print(os.path.join(dirname, filename))\n",
    "\n",
    "# You can write up to 20GB to the current directory (/kaggle/working/) that gets preserved as output when you create a version using \"Save & Run All\" \n",
    "# You can also write temporary files to /kaggle/temp/, but they won't be saved outside of the current session"
   ]
  },
  {
   "cell_type": "markdown",
   "id": "b5445002",
   "metadata": {
    "papermill": {
     "duration": 0.010427,
     "end_time": "2025-05-21T22:08:42.269058",
     "exception": false,
     "start_time": "2025-05-21T22:08:42.258631",
     "status": "completed"
    },
    "tags": []
   },
   "source": [
    "## Imput packages and Load the dataset "
   ]
  },
  {
   "cell_type": "code",
   "execution_count": 2,
   "id": "58952d79",
   "metadata": {
    "execution": {
     "iopub.execute_input": "2025-05-21T22:08:42.291847Z",
     "iopub.status.busy": "2025-05-21T22:08:42.291376Z",
     "iopub.status.idle": "2025-05-21T22:08:45.662493Z",
     "shell.execute_reply": "2025-05-21T22:08:45.661539Z"
    },
    "papermill": {
     "duration": 3.384345,
     "end_time": "2025-05-21T22:08:45.664256",
     "exception": false,
     "start_time": "2025-05-21T22:08:42.279911",
     "status": "completed"
    },
    "tags": []
   },
   "outputs": [],
   "source": [
    "import pandas as pd\n",
    "import numpy as np\n",
    "import matplotlib.pyplot as plt\n",
    "import seaborn as sns\n",
    "\n",
    "# Load dataset\n",
    "df = pd.read_csv('/kaggle/input/marketing-campaign-performance-dataset/marketing_campaign_dataset.csv')\n"
   ]
  },
  {
   "cell_type": "markdown",
   "id": "950b9931",
   "metadata": {
    "papermill": {
     "duration": 0.011362,
     "end_time": "2025-05-21T22:08:45.687633",
     "exception": false,
     "start_time": "2025-05-21T22:08:45.676271",
     "status": "completed"
    },
    "tags": []
   },
   "source": [
    "## Clean and Prepare the data "
   ]
  },
  {
   "cell_type": "code",
   "execution_count": 3,
   "id": "c01f8a43",
   "metadata": {
    "execution": {
     "iopub.execute_input": "2025-05-21T22:08:45.711207Z",
     "iopub.status.busy": "2025-05-21T22:08:45.710225Z",
     "iopub.status.idle": "2025-05-21T22:08:45.951601Z",
     "shell.execute_reply": "2025-05-21T22:08:45.950558Z"
    },
    "papermill": {
     "duration": 0.254635,
     "end_time": "2025-05-21T22:08:45.953105",
     "exception": false,
     "start_time": "2025-05-21T22:08:45.698470",
     "status": "completed"
    },
    "tags": []
   },
   "outputs": [
    {
     "name": "stdout",
     "output_type": "stream",
     "text": [
      "<class 'pandas.core.frame.DataFrame'>\n",
      "RangeIndex: 200000 entries, 0 to 199999\n",
      "Data columns (total 16 columns):\n",
      " #   Column            Non-Null Count   Dtype  \n",
      "---  ------            --------------   -----  \n",
      " 0   Campaign_ID       200000 non-null  int64  \n",
      " 1   Company           200000 non-null  object \n",
      " 2   Campaign_Type     200000 non-null  object \n",
      " 3   Target_Audience   200000 non-null  object \n",
      " 4   Duration          200000 non-null  object \n",
      " 5   Channel_Used      200000 non-null  object \n",
      " 6   Conversion_Rate   200000 non-null  float64\n",
      " 7   Acquisition_Cost  200000 non-null  object \n",
      " 8   ROI               200000 non-null  float64\n",
      " 9   Location          200000 non-null  object \n",
      " 10  Language          200000 non-null  object \n",
      " 11  Clicks            200000 non-null  int64  \n",
      " 12  Impressions       200000 non-null  int64  \n",
      " 13  Engagement_Score  200000 non-null  int64  \n",
      " 14  Customer_Segment  200000 non-null  object \n",
      " 15  Date              200000 non-null  object \n",
      "dtypes: float64(2), int64(4), object(10)\n",
      "memory usage: 24.4+ MB\n"
     ]
    },
    {
     "data": {
      "text/plain": [
       "Campaign_ID         0\n",
       "Company             0\n",
       "Campaign_Type       0\n",
       "Target_Audience     0\n",
       "Duration            0\n",
       "Channel_Used        0\n",
       "Conversion_Rate     0\n",
       "Acquisition_Cost    0\n",
       "ROI                 0\n",
       "Location            0\n",
       "Language            0\n",
       "Clicks              0\n",
       "Impressions         0\n",
       "Engagement_Score    0\n",
       "Customer_Segment    0\n",
       "Date                0\n",
       "dtype: int64"
      ]
     },
     "execution_count": 3,
     "metadata": {},
     "output_type": "execute_result"
    }
   ],
   "source": [
    "# inspect data types and missing values\n",
    "\n",
    "df.info()\n",
    "df.isnull().sum()"
   ]
  },
  {
   "cell_type": "markdown",
   "id": "53b5a88c",
   "metadata": {
    "papermill": {
     "duration": 0.010672,
     "end_time": "2025-05-21T22:08:45.974920",
     "exception": false,
     "start_time": "2025-05-21T22:08:45.964248",
     "status": "completed"
    },
    "tags": []
   },
   "source": [
    "The data set has three data types: \n",
    "\n",
    "* int64 (campaign ID, impression , clicks, and engagement score)\n",
    "* Object ( Company , Campaign type , audience type, duration , Channel , acquistion cost , location , language , customer segment and date)\n",
    "* float 64 ( Convension rate , ROI)\n"
   ]
  },
  {
   "cell_type": "markdown",
   "id": "c5339ab7",
   "metadata": {
    "papermill": {
     "duration": 0.010438,
     "end_time": "2025-05-21T22:08:45.996179",
     "exception": false,
     "start_time": "2025-05-21T22:08:45.985741",
     "status": "completed"
    },
    "tags": []
   },
   "source": [
    "### Change the data type \n",
    "\n",
    "* Duration (Object) -> (int64)\n",
    "* Acquistion_Cost (Object) -> ( float64)\n",
    "* Date (object) -> (float64) "
   ]
  },
  {
   "cell_type": "code",
   "execution_count": 4,
   "id": "2e9da710",
   "metadata": {
    "execution": {
     "iopub.execute_input": "2025-05-21T22:08:46.020076Z",
     "iopub.status.busy": "2025-05-21T22:08:46.019749Z",
     "iopub.status.idle": "2025-05-21T22:08:46.766587Z",
     "shell.execute_reply": "2025-05-21T22:08:46.765695Z"
    },
    "papermill": {
     "duration": 0.761103,
     "end_time": "2025-05-21T22:08:46.768180",
     "exception": false,
     "start_time": "2025-05-21T22:08:46.007077",
     "status": "completed"
    },
    "tags": []
   },
   "outputs": [
    {
     "data": {
      "text/plain": [
       "Duration                     int64\n",
       "Acquisition_Cost           float64\n",
       "Date                datetime64[ns]\n",
       "dtype: object"
      ]
     },
     "execution_count": 4,
     "metadata": {},
     "output_type": "execute_result"
    }
   ],
   "source": [
    "# 1. Convert 'Duration' to string, then extract numbers\n",
    "df['Duration'] = df['Duration'].astype(str).str.extract('(\\d+)').astype(int)\n",
    "\n",
    "# 2. Remove \"$\" and \",\" from 'Acquisition_Cost' and convert to float\n",
    "df['Acquisition_Cost'] = df['Acquisition_Cost'].replace('[\\$,]', '', regex=True).astype(float)\n",
    "\n",
    "# 3. Convert 'Date' to datetime format\n",
    "df['Date'] = pd.to_datetime(df['Date'])\n",
    "\n",
    "# Check \n",
    "df[['Duration', 'Acquisition_Cost', 'Date']].dtypes\n"
   ]
  },
  {
   "cell_type": "markdown",
   "id": "541d9c72",
   "metadata": {
    "papermill": {
     "duration": 0.010747,
     "end_time": "2025-05-21T22:08:46.790290",
     "exception": false,
     "start_time": "2025-05-21T22:08:46.779543",
     "status": "completed"
    },
    "tags": []
   },
   "source": [
    "## EDA"
   ]
  },
  {
   "cell_type": "code",
   "execution_count": 5,
   "id": "6de77a63",
   "metadata": {
    "execution": {
     "iopub.execute_input": "2025-05-21T22:08:46.813693Z",
     "iopub.status.busy": "2025-05-21T22:08:46.813340Z",
     "iopub.status.idle": "2025-05-21T22:08:46.843620Z",
     "shell.execute_reply": "2025-05-21T22:08:46.842639Z"
    },
    "papermill": {
     "duration": 0.044015,
     "end_time": "2025-05-21T22:08:46.845297",
     "exception": false,
     "start_time": "2025-05-21T22:08:46.801282",
     "status": "completed"
    },
    "tags": []
   },
   "outputs": [
    {
     "data": {
      "text/html": [
       "<div>\n",
       "<style scoped>\n",
       "    .dataframe tbody tr th:only-of-type {\n",
       "        vertical-align: middle;\n",
       "    }\n",
       "\n",
       "    .dataframe tbody tr th {\n",
       "        vertical-align: top;\n",
       "    }\n",
       "\n",
       "    .dataframe thead th {\n",
       "        text-align: right;\n",
       "    }\n",
       "</style>\n",
       "<table border=\"1\" class=\"dataframe\">\n",
       "  <thead>\n",
       "    <tr style=\"text-align: right;\">\n",
       "      <th></th>\n",
       "      <th>Campaign_ID</th>\n",
       "      <th>Company</th>\n",
       "      <th>Campaign_Type</th>\n",
       "      <th>Target_Audience</th>\n",
       "      <th>Duration</th>\n",
       "      <th>Channel_Used</th>\n",
       "      <th>Conversion_Rate</th>\n",
       "      <th>Acquisition_Cost</th>\n",
       "      <th>ROI</th>\n",
       "      <th>Location</th>\n",
       "      <th>Language</th>\n",
       "      <th>Clicks</th>\n",
       "      <th>Impressions</th>\n",
       "      <th>Engagement_Score</th>\n",
       "      <th>Customer_Segment</th>\n",
       "      <th>Date</th>\n",
       "    </tr>\n",
       "  </thead>\n",
       "  <tbody>\n",
       "    <tr>\n",
       "      <th>0</th>\n",
       "      <td>1</td>\n",
       "      <td>Innovate Industries</td>\n",
       "      <td>Email</td>\n",
       "      <td>Men 18-24</td>\n",
       "      <td>30</td>\n",
       "      <td>Google Ads</td>\n",
       "      <td>0.04</td>\n",
       "      <td>16174.0</td>\n",
       "      <td>6.29</td>\n",
       "      <td>Chicago</td>\n",
       "      <td>Spanish</td>\n",
       "      <td>506</td>\n",
       "      <td>1922</td>\n",
       "      <td>6</td>\n",
       "      <td>Health &amp; Wellness</td>\n",
       "      <td>2021-01-01</td>\n",
       "    </tr>\n",
       "    <tr>\n",
       "      <th>1</th>\n",
       "      <td>2</td>\n",
       "      <td>NexGen Systems</td>\n",
       "      <td>Email</td>\n",
       "      <td>Women 35-44</td>\n",
       "      <td>60</td>\n",
       "      <td>Google Ads</td>\n",
       "      <td>0.12</td>\n",
       "      <td>11566.0</td>\n",
       "      <td>5.61</td>\n",
       "      <td>New York</td>\n",
       "      <td>German</td>\n",
       "      <td>116</td>\n",
       "      <td>7523</td>\n",
       "      <td>7</td>\n",
       "      <td>Fashionistas</td>\n",
       "      <td>2021-01-02</td>\n",
       "    </tr>\n",
       "    <tr>\n",
       "      <th>2</th>\n",
       "      <td>3</td>\n",
       "      <td>Alpha Innovations</td>\n",
       "      <td>Influencer</td>\n",
       "      <td>Men 25-34</td>\n",
       "      <td>30</td>\n",
       "      <td>YouTube</td>\n",
       "      <td>0.07</td>\n",
       "      <td>10200.0</td>\n",
       "      <td>7.18</td>\n",
       "      <td>Los Angeles</td>\n",
       "      <td>French</td>\n",
       "      <td>584</td>\n",
       "      <td>7698</td>\n",
       "      <td>1</td>\n",
       "      <td>Outdoor Adventurers</td>\n",
       "      <td>2021-01-03</td>\n",
       "    </tr>\n",
       "    <tr>\n",
       "      <th>3</th>\n",
       "      <td>4</td>\n",
       "      <td>DataTech Solutions</td>\n",
       "      <td>Display</td>\n",
       "      <td>All Ages</td>\n",
       "      <td>60</td>\n",
       "      <td>YouTube</td>\n",
       "      <td>0.11</td>\n",
       "      <td>12724.0</td>\n",
       "      <td>5.55</td>\n",
       "      <td>Miami</td>\n",
       "      <td>Mandarin</td>\n",
       "      <td>217</td>\n",
       "      <td>1820</td>\n",
       "      <td>7</td>\n",
       "      <td>Health &amp; Wellness</td>\n",
       "      <td>2021-01-04</td>\n",
       "    </tr>\n",
       "    <tr>\n",
       "      <th>4</th>\n",
       "      <td>5</td>\n",
       "      <td>NexGen Systems</td>\n",
       "      <td>Email</td>\n",
       "      <td>Men 25-34</td>\n",
       "      <td>15</td>\n",
       "      <td>YouTube</td>\n",
       "      <td>0.05</td>\n",
       "      <td>16452.0</td>\n",
       "      <td>6.50</td>\n",
       "      <td>Los Angeles</td>\n",
       "      <td>Mandarin</td>\n",
       "      <td>379</td>\n",
       "      <td>4201</td>\n",
       "      <td>3</td>\n",
       "      <td>Health &amp; Wellness</td>\n",
       "      <td>2021-01-05</td>\n",
       "    </tr>\n",
       "    <tr>\n",
       "      <th>5</th>\n",
       "      <td>6</td>\n",
       "      <td>DataTech Solutions</td>\n",
       "      <td>Display</td>\n",
       "      <td>All Ages</td>\n",
       "      <td>15</td>\n",
       "      <td>Instagram</td>\n",
       "      <td>0.07</td>\n",
       "      <td>9716.0</td>\n",
       "      <td>4.36</td>\n",
       "      <td>New York</td>\n",
       "      <td>German</td>\n",
       "      <td>100</td>\n",
       "      <td>1643</td>\n",
       "      <td>1</td>\n",
       "      <td>Foodies</td>\n",
       "      <td>2021-01-06</td>\n",
       "    </tr>\n",
       "    <tr>\n",
       "      <th>6</th>\n",
       "      <td>7</td>\n",
       "      <td>NexGen Systems</td>\n",
       "      <td>Email</td>\n",
       "      <td>Women 35-44</td>\n",
       "      <td>60</td>\n",
       "      <td>Website</td>\n",
       "      <td>0.13</td>\n",
       "      <td>11067.0</td>\n",
       "      <td>2.86</td>\n",
       "      <td>Los Angeles</td>\n",
       "      <td>Spanish</td>\n",
       "      <td>817</td>\n",
       "      <td>8749</td>\n",
       "      <td>10</td>\n",
       "      <td>Tech Enthusiasts</td>\n",
       "      <td>2021-01-07</td>\n",
       "    </tr>\n",
       "    <tr>\n",
       "      <th>7</th>\n",
       "      <td>8</td>\n",
       "      <td>DataTech Solutions</td>\n",
       "      <td>Search</td>\n",
       "      <td>Men 18-24</td>\n",
       "      <td>45</td>\n",
       "      <td>Google Ads</td>\n",
       "      <td>0.08</td>\n",
       "      <td>13280.0</td>\n",
       "      <td>5.55</td>\n",
       "      <td>Los Angeles</td>\n",
       "      <td>Mandarin</td>\n",
       "      <td>624</td>\n",
       "      <td>7854</td>\n",
       "      <td>7</td>\n",
       "      <td>Outdoor Adventurers</td>\n",
       "      <td>2021-01-08</td>\n",
       "    </tr>\n",
       "    <tr>\n",
       "      <th>8</th>\n",
       "      <td>9</td>\n",
       "      <td>Alpha Innovations</td>\n",
       "      <td>Social Media</td>\n",
       "      <td>Women 35-44</td>\n",
       "      <td>15</td>\n",
       "      <td>Facebook</td>\n",
       "      <td>0.09</td>\n",
       "      <td>18066.0</td>\n",
       "      <td>6.73</td>\n",
       "      <td>Chicago</td>\n",
       "      <td>German</td>\n",
       "      <td>861</td>\n",
       "      <td>1754</td>\n",
       "      <td>6</td>\n",
       "      <td>Tech Enthusiasts</td>\n",
       "      <td>2021-01-09</td>\n",
       "    </tr>\n",
       "    <tr>\n",
       "      <th>9</th>\n",
       "      <td>10</td>\n",
       "      <td>TechCorp</td>\n",
       "      <td>Email</td>\n",
       "      <td>Women 35-44</td>\n",
       "      <td>15</td>\n",
       "      <td>Instagram</td>\n",
       "      <td>0.09</td>\n",
       "      <td>13766.0</td>\n",
       "      <td>3.78</td>\n",
       "      <td>Los Angeles</td>\n",
       "      <td>English</td>\n",
       "      <td>642</td>\n",
       "      <td>3856</td>\n",
       "      <td>3</td>\n",
       "      <td>Tech Enthusiasts</td>\n",
       "      <td>2021-01-10</td>\n",
       "    </tr>\n",
       "  </tbody>\n",
       "</table>\n",
       "</div>"
      ],
      "text/plain": [
       "   Campaign_ID              Company Campaign_Type Target_Audience  Duration  \\\n",
       "0            1  Innovate Industries         Email       Men 18-24        30   \n",
       "1            2       NexGen Systems         Email     Women 35-44        60   \n",
       "2            3    Alpha Innovations    Influencer       Men 25-34        30   \n",
       "3            4   DataTech Solutions       Display        All Ages        60   \n",
       "4            5       NexGen Systems         Email       Men 25-34        15   \n",
       "5            6   DataTech Solutions       Display        All Ages        15   \n",
       "6            7       NexGen Systems         Email     Women 35-44        60   \n",
       "7            8   DataTech Solutions        Search       Men 18-24        45   \n",
       "8            9    Alpha Innovations  Social Media     Women 35-44        15   \n",
       "9           10             TechCorp         Email     Women 35-44        15   \n",
       "\n",
       "  Channel_Used  Conversion_Rate  Acquisition_Cost   ROI     Location  \\\n",
       "0   Google Ads             0.04           16174.0  6.29      Chicago   \n",
       "1   Google Ads             0.12           11566.0  5.61     New York   \n",
       "2      YouTube             0.07           10200.0  7.18  Los Angeles   \n",
       "3      YouTube             0.11           12724.0  5.55        Miami   \n",
       "4      YouTube             0.05           16452.0  6.50  Los Angeles   \n",
       "5    Instagram             0.07            9716.0  4.36     New York   \n",
       "6      Website             0.13           11067.0  2.86  Los Angeles   \n",
       "7   Google Ads             0.08           13280.0  5.55  Los Angeles   \n",
       "8     Facebook             0.09           18066.0  6.73      Chicago   \n",
       "9    Instagram             0.09           13766.0  3.78  Los Angeles   \n",
       "\n",
       "   Language  Clicks  Impressions  Engagement_Score     Customer_Segment  \\\n",
       "0   Spanish     506         1922                 6    Health & Wellness   \n",
       "1    German     116         7523                 7         Fashionistas   \n",
       "2    French     584         7698                 1  Outdoor Adventurers   \n",
       "3  Mandarin     217         1820                 7    Health & Wellness   \n",
       "4  Mandarin     379         4201                 3    Health & Wellness   \n",
       "5    German     100         1643                 1              Foodies   \n",
       "6   Spanish     817         8749                10     Tech Enthusiasts   \n",
       "7  Mandarin     624         7854                 7  Outdoor Adventurers   \n",
       "8    German     861         1754                 6     Tech Enthusiasts   \n",
       "9   English     642         3856                 3     Tech Enthusiasts   \n",
       "\n",
       "        Date  \n",
       "0 2021-01-01  \n",
       "1 2021-01-02  \n",
       "2 2021-01-03  \n",
       "3 2021-01-04  \n",
       "4 2021-01-05  \n",
       "5 2021-01-06  \n",
       "6 2021-01-07  \n",
       "7 2021-01-08  \n",
       "8 2021-01-09  \n",
       "9 2021-01-10  "
      ]
     },
     "execution_count": 5,
     "metadata": {},
     "output_type": "execute_result"
    }
   ],
   "source": [
    "# Checking the head of the data \n",
    "\n",
    "df.head(10)"
   ]
  },
  {
   "cell_type": "code",
   "execution_count": 6,
   "id": "c14d4fb5",
   "metadata": {
    "execution": {
     "iopub.execute_input": "2025-05-21T22:08:46.869851Z",
     "iopub.status.busy": "2025-05-21T22:08:46.869505Z",
     "iopub.status.idle": "2025-05-21T22:08:46.971167Z",
     "shell.execute_reply": "2025-05-21T22:08:46.970262Z"
    },
    "papermill": {
     "duration": 0.115786,
     "end_time": "2025-05-21T22:08:46.972836",
     "exception": false,
     "start_time": "2025-05-21T22:08:46.857050",
     "status": "completed"
    },
    "tags": []
   },
   "outputs": [
    {
     "data": {
      "text/html": [
       "<div>\n",
       "<style scoped>\n",
       "    .dataframe tbody tr th:only-of-type {\n",
       "        vertical-align: middle;\n",
       "    }\n",
       "\n",
       "    .dataframe tbody tr th {\n",
       "        vertical-align: top;\n",
       "    }\n",
       "\n",
       "    .dataframe thead th {\n",
       "        text-align: right;\n",
       "    }\n",
       "</style>\n",
       "<table border=\"1\" class=\"dataframe\">\n",
       "  <thead>\n",
       "    <tr style=\"text-align: right;\">\n",
       "      <th></th>\n",
       "      <th>Duration</th>\n",
       "      <th>Conversion_Rate</th>\n",
       "      <th>Acquisition_Cost</th>\n",
       "      <th>ROI</th>\n",
       "      <th>Clicks</th>\n",
       "      <th>Impressions</th>\n",
       "      <th>Engagement_Score</th>\n",
       "    </tr>\n",
       "  </thead>\n",
       "  <tbody>\n",
       "    <tr>\n",
       "      <th>count</th>\n",
       "      <td>200000.000000</td>\n",
       "      <td>200000.000000</td>\n",
       "      <td>200000.000000</td>\n",
       "      <td>200000.000000</td>\n",
       "      <td>200000.000000</td>\n",
       "      <td>200000.000000</td>\n",
       "      <td>200000.000000</td>\n",
       "    </tr>\n",
       "    <tr>\n",
       "      <th>mean</th>\n",
       "      <td>37.503975</td>\n",
       "      <td>0.080070</td>\n",
       "      <td>12504.393040</td>\n",
       "      <td>5.002438</td>\n",
       "      <td>549.772030</td>\n",
       "      <td>5507.301520</td>\n",
       "      <td>5.494710</td>\n",
       "    </tr>\n",
       "    <tr>\n",
       "      <th>std</th>\n",
       "      <td>16.746720</td>\n",
       "      <td>0.040602</td>\n",
       "      <td>4337.664545</td>\n",
       "      <td>1.734488</td>\n",
       "      <td>260.019056</td>\n",
       "      <td>2596.864286</td>\n",
       "      <td>2.872581</td>\n",
       "    </tr>\n",
       "    <tr>\n",
       "      <th>min</th>\n",
       "      <td>15.000000</td>\n",
       "      <td>0.010000</td>\n",
       "      <td>5000.000000</td>\n",
       "      <td>2.000000</td>\n",
       "      <td>100.000000</td>\n",
       "      <td>1000.000000</td>\n",
       "      <td>1.000000</td>\n",
       "    </tr>\n",
       "    <tr>\n",
       "      <th>25%</th>\n",
       "      <td>30.000000</td>\n",
       "      <td>0.050000</td>\n",
       "      <td>8739.750000</td>\n",
       "      <td>3.500000</td>\n",
       "      <td>325.000000</td>\n",
       "      <td>3266.000000</td>\n",
       "      <td>3.000000</td>\n",
       "    </tr>\n",
       "    <tr>\n",
       "      <th>50%</th>\n",
       "      <td>30.000000</td>\n",
       "      <td>0.080000</td>\n",
       "      <td>12496.500000</td>\n",
       "      <td>5.010000</td>\n",
       "      <td>550.000000</td>\n",
       "      <td>5517.500000</td>\n",
       "      <td>5.000000</td>\n",
       "    </tr>\n",
       "    <tr>\n",
       "      <th>75%</th>\n",
       "      <td>45.000000</td>\n",
       "      <td>0.120000</td>\n",
       "      <td>16264.000000</td>\n",
       "      <td>6.510000</td>\n",
       "      <td>775.000000</td>\n",
       "      <td>7753.000000</td>\n",
       "      <td>8.000000</td>\n",
       "    </tr>\n",
       "    <tr>\n",
       "      <th>max</th>\n",
       "      <td>60.000000</td>\n",
       "      <td>0.150000</td>\n",
       "      <td>20000.000000</td>\n",
       "      <td>8.000000</td>\n",
       "      <td>1000.000000</td>\n",
       "      <td>10000.000000</td>\n",
       "      <td>10.000000</td>\n",
       "    </tr>\n",
       "  </tbody>\n",
       "</table>\n",
       "</div>"
      ],
      "text/plain": [
       "            Duration  Conversion_Rate  Acquisition_Cost            ROI  \\\n",
       "count  200000.000000    200000.000000     200000.000000  200000.000000   \n",
       "mean       37.503975         0.080070      12504.393040       5.002438   \n",
       "std        16.746720         0.040602       4337.664545       1.734488   \n",
       "min        15.000000         0.010000       5000.000000       2.000000   \n",
       "25%        30.000000         0.050000       8739.750000       3.500000   \n",
       "50%        30.000000         0.080000      12496.500000       5.010000   \n",
       "75%        45.000000         0.120000      16264.000000       6.510000   \n",
       "max        60.000000         0.150000      20000.000000       8.000000   \n",
       "\n",
       "              Clicks    Impressions  Engagement_Score  \n",
       "count  200000.000000  200000.000000     200000.000000  \n",
       "mean      549.772030    5507.301520          5.494710  \n",
       "std       260.019056    2596.864286          2.872581  \n",
       "min       100.000000    1000.000000          1.000000  \n",
       "25%       325.000000    3266.000000          3.000000  \n",
       "50%       550.000000    5517.500000          5.000000  \n",
       "75%       775.000000    7753.000000          8.000000  \n",
       "max      1000.000000   10000.000000         10.000000  "
      ]
     },
     "execution_count": 6,
     "metadata": {},
     "output_type": "execute_result"
    }
   ],
   "source": [
    "# List of selected columns\n",
    "cols = ['Duration', 'Conversion_Rate', 'Acquisition_Cost', 'ROI', \n",
    "        'Clicks', 'Impressions', 'Engagement_Score']\n",
    "\n",
    "# Show descriptive statistics for selected columns\n",
    "df[cols].describe()\n"
   ]
  },
  {
   "cell_type": "code",
   "execution_count": 7,
   "id": "32ad7376",
   "metadata": {
    "execution": {
     "iopub.execute_input": "2025-05-21T22:08:46.997534Z",
     "iopub.status.busy": "2025-05-21T22:08:46.997054Z",
     "iopub.status.idle": "2025-05-21T22:08:47.003054Z",
     "shell.execute_reply": "2025-05-21T22:08:47.002280Z"
    },
    "papermill": {
     "duration": 0.019751,
     "end_time": "2025-05-21T22:08:47.004381",
     "exception": false,
     "start_time": "2025-05-21T22:08:46.984630",
     "status": "completed"
    },
    "tags": []
   },
   "outputs": [
    {
     "data": {
      "text/plain": [
       "(200000, 16)"
      ]
     },
     "execution_count": 7,
     "metadata": {},
     "output_type": "execute_result"
    }
   ],
   "source": [
    "df.shape"
   ]
  },
  {
   "cell_type": "code",
   "execution_count": 8,
   "id": "f19e62ea",
   "metadata": {
    "execution": {
     "iopub.execute_input": "2025-05-21T22:08:47.029711Z",
     "iopub.status.busy": "2025-05-21T22:08:47.029350Z",
     "iopub.status.idle": "2025-05-21T22:08:47.050699Z",
     "shell.execute_reply": "2025-05-21T22:08:47.049840Z"
    },
    "papermill": {
     "duration": 0.035715,
     "end_time": "2025-05-21T22:08:47.052254",
     "exception": false,
     "start_time": "2025-05-21T22:08:47.016539",
     "status": "completed"
    },
    "tags": []
   },
   "outputs": [
    {
     "data": {
      "text/html": [
       "<div>\n",
       "<style scoped>\n",
       "    .dataframe tbody tr th:only-of-type {\n",
       "        vertical-align: middle;\n",
       "    }\n",
       "\n",
       "    .dataframe tbody tr th {\n",
       "        vertical-align: top;\n",
       "    }\n",
       "\n",
       "    .dataframe thead th {\n",
       "        text-align: right;\n",
       "    }\n",
       "</style>\n",
       "<table border=\"1\" class=\"dataframe\">\n",
       "  <thead>\n",
       "    <tr style=\"text-align: right;\">\n",
       "      <th></th>\n",
       "      <th>Campaign_ID</th>\n",
       "      <th>Company</th>\n",
       "      <th>Campaign_Type</th>\n",
       "      <th>Target_Audience</th>\n",
       "      <th>Duration</th>\n",
       "      <th>Channel_Used</th>\n",
       "      <th>Conversion_Rate</th>\n",
       "      <th>Acquisition_Cost</th>\n",
       "      <th>ROI</th>\n",
       "      <th>Location</th>\n",
       "      <th>Language</th>\n",
       "      <th>Clicks</th>\n",
       "      <th>Impressions</th>\n",
       "      <th>Engagement_Score</th>\n",
       "      <th>Customer_Segment</th>\n",
       "      <th>Date</th>\n",
       "    </tr>\n",
       "  </thead>\n",
       "  <tbody>\n",
       "    <tr>\n",
       "      <th>84980</th>\n",
       "      <td>84981</td>\n",
       "      <td>TechCorp</td>\n",
       "      <td>Search</td>\n",
       "      <td>All Ages</td>\n",
       "      <td>30</td>\n",
       "      <td>Facebook</td>\n",
       "      <td>0.04</td>\n",
       "      <td>17205.0</td>\n",
       "      <td>6.68</td>\n",
       "      <td>Houston</td>\n",
       "      <td>French</td>\n",
       "      <td>718</td>\n",
       "      <td>4647</td>\n",
       "      <td>3</td>\n",
       "      <td>Outdoor Adventurers</td>\n",
       "      <td>2021-10-28</td>\n",
       "    </tr>\n",
       "  </tbody>\n",
       "</table>\n",
       "</div>"
      ],
      "text/plain": [
       "       Campaign_ID   Company Campaign_Type Target_Audience  Duration  \\\n",
       "84980        84981  TechCorp        Search        All Ages        30   \n",
       "\n",
       "      Channel_Used  Conversion_Rate  Acquisition_Cost   ROI Location Language  \\\n",
       "84980     Facebook             0.04           17205.0  6.68  Houston   French   \n",
       "\n",
       "       Clicks  Impressions  Engagement_Score     Customer_Segment       Date  \n",
       "84980     718         4647                 3  Outdoor Adventurers 2021-10-28  "
      ]
     },
     "execution_count": 8,
     "metadata": {},
     "output_type": "execute_result"
    }
   ],
   "source": [
    "df.sample()"
   ]
  },
  {
   "cell_type": "markdown",
   "id": "0742ef23",
   "metadata": {
    "papermill": {
     "duration": 0.011555,
     "end_time": "2025-05-21T22:08:47.075901",
     "exception": false,
     "start_time": "2025-05-21T22:08:47.064346",
     "status": "completed"
    },
    "tags": []
   },
   "source": [
    "### Ploting average ROI by months "
   ]
  },
  {
   "cell_type": "code",
   "execution_count": 9,
   "id": "a40c76eb",
   "metadata": {
    "execution": {
     "iopub.execute_input": "2025-05-21T22:08:47.100876Z",
     "iopub.status.busy": "2025-05-21T22:08:47.100544Z",
     "iopub.status.idle": "2025-05-21T22:08:47.208430Z",
     "shell.execute_reply": "2025-05-21T22:08:47.207419Z"
    },
    "papermill": {
     "duration": 0.12271,
     "end_time": "2025-05-21T22:08:47.210405",
     "exception": false,
     "start_time": "2025-05-21T22:08:47.087695",
     "status": "completed"
    },
    "tags": []
   },
   "outputs": [],
   "source": [
    "#Creating Month columns\n",
    "\n",
    "df['month'] = df['Date'].dt.month\n",
    "\n",
    "df['month_txt'] = df['Date'].dt.month_name().str.slice(stop=3)"
   ]
  },
  {
   "cell_type": "code",
   "execution_count": 10,
   "id": "f6f54f5d",
   "metadata": {
    "execution": {
     "iopub.execute_input": "2025-05-21T22:08:47.236547Z",
     "iopub.status.busy": "2025-05-21T22:08:47.236208Z",
     "iopub.status.idle": "2025-05-21T22:08:47.307767Z",
     "shell.execute_reply": "2025-05-21T22:08:47.306717Z"
    },
    "papermill": {
     "duration": 0.086752,
     "end_time": "2025-05-21T22:08:47.309522",
     "exception": false,
     "start_time": "2025-05-21T22:08:47.222770",
     "status": "completed"
    },
    "tags": []
   },
   "outputs": [
    {
     "data": {
      "text/html": [
       "<div>\n",
       "<style scoped>\n",
       "    .dataframe tbody tr th:only-of-type {\n",
       "        vertical-align: middle;\n",
       "    }\n",
       "\n",
       "    .dataframe tbody tr th {\n",
       "        vertical-align: top;\n",
       "    }\n",
       "\n",
       "    .dataframe thead th {\n",
       "        text-align: right;\n",
       "    }\n",
       "</style>\n",
       "<table border=\"1\" class=\"dataframe\">\n",
       "  <thead>\n",
       "    <tr style=\"text-align: right;\">\n",
       "      <th></th>\n",
       "      <th>Customer_Segment</th>\n",
       "      <th>month</th>\n",
       "      <th>month_txt</th>\n",
       "      <th>Campaign_ID</th>\n",
       "      <th>Duration</th>\n",
       "      <th>Conversion_Rate</th>\n",
       "      <th>Acquisition_Cost</th>\n",
       "      <th>ROI</th>\n",
       "      <th>Clicks</th>\n",
       "      <th>Impressions</th>\n",
       "      <th>Engagement_Score</th>\n",
       "    </tr>\n",
       "  </thead>\n",
       "  <tbody>\n",
       "    <tr>\n",
       "      <th>0</th>\n",
       "      <td>Tech Enthusiasts</td>\n",
       "      <td>12</td>\n",
       "      <td>Dec</td>\n",
       "      <td>99393.767193</td>\n",
       "      <td>37.662995</td>\n",
       "      <td>0.080179</td>\n",
       "      <td>12452.518011</td>\n",
       "      <td>4.967824</td>\n",
       "      <td>547.274784</td>\n",
       "      <td>5491.440905</td>\n",
       "      <td>5.475141</td>\n",
       "    </tr>\n",
       "    <tr>\n",
       "      <th>1</th>\n",
       "      <td>Foodies</td>\n",
       "      <td>12</td>\n",
       "      <td>Dec</td>\n",
       "      <td>99639.935916</td>\n",
       "      <td>37.576464</td>\n",
       "      <td>0.080912</td>\n",
       "      <td>12597.622779</td>\n",
       "      <td>5.016070</td>\n",
       "      <td>543.429071</td>\n",
       "      <td>5407.637635</td>\n",
       "      <td>5.593941</td>\n",
       "    </tr>\n",
       "    <tr>\n",
       "      <th>2</th>\n",
       "      <td>Health &amp; Wellness</td>\n",
       "      <td>12</td>\n",
       "      <td>Dec</td>\n",
       "      <td>100945.394081</td>\n",
       "      <td>37.348374</td>\n",
       "      <td>0.079663</td>\n",
       "      <td>12492.348960</td>\n",
       "      <td>5.022221</td>\n",
       "      <td>551.176384</td>\n",
       "      <td>5611.342514</td>\n",
       "      <td>5.535599</td>\n",
       "    </tr>\n",
       "    <tr>\n",
       "      <th>3</th>\n",
       "      <td>Outdoor Adventurers</td>\n",
       "      <td>12</td>\n",
       "      <td>Dec</td>\n",
       "      <td>100527.597651</td>\n",
       "      <td>37.136564</td>\n",
       "      <td>0.081386</td>\n",
       "      <td>12577.532746</td>\n",
       "      <td>5.008896</td>\n",
       "      <td>545.335389</td>\n",
       "      <td>5537.488987</td>\n",
       "      <td>5.494273</td>\n",
       "    </tr>\n",
       "    <tr>\n",
       "      <th>4</th>\n",
       "      <td>Fashionistas</td>\n",
       "      <td>12</td>\n",
       "      <td>Dec</td>\n",
       "      <td>99780.969625</td>\n",
       "      <td>37.285587</td>\n",
       "      <td>0.078919</td>\n",
       "      <td>12488.944610</td>\n",
       "      <td>4.994875</td>\n",
       "      <td>550.349017</td>\n",
       "      <td>5505.736450</td>\n",
       "      <td>5.581596</td>\n",
       "    </tr>\n",
       "    <tr>\n",
       "      <th>5</th>\n",
       "      <td>Fashionistas</td>\n",
       "      <td>11</td>\n",
       "      <td>Nov</td>\n",
       "      <td>100767.510292</td>\n",
       "      <td>37.179724</td>\n",
       "      <td>0.079994</td>\n",
       "      <td>12487.531797</td>\n",
       "      <td>4.975868</td>\n",
       "      <td>544.952381</td>\n",
       "      <td>5571.303840</td>\n",
       "      <td>5.443932</td>\n",
       "    </tr>\n",
       "    <tr>\n",
       "      <th>6</th>\n",
       "      <td>Health &amp; Wellness</td>\n",
       "      <td>11</td>\n",
       "      <td>Nov</td>\n",
       "      <td>100962.998461</td>\n",
       "      <td>37.082179</td>\n",
       "      <td>0.081046</td>\n",
       "      <td>12502.669437</td>\n",
       "      <td>4.996974</td>\n",
       "      <td>549.049246</td>\n",
       "      <td>5563.480456</td>\n",
       "      <td>5.444444</td>\n",
       "    </tr>\n",
       "    <tr>\n",
       "      <th>7</th>\n",
       "      <td>Foodies</td>\n",
       "      <td>11</td>\n",
       "      <td>Nov</td>\n",
       "      <td>98541.849656</td>\n",
       "      <td>36.904762</td>\n",
       "      <td>0.080566</td>\n",
       "      <td>12490.325846</td>\n",
       "      <td>5.015259</td>\n",
       "      <td>548.838275</td>\n",
       "      <td>5526.233603</td>\n",
       "      <td>5.474693</td>\n",
       "    </tr>\n",
       "    <tr>\n",
       "      <th>8</th>\n",
       "      <td>Outdoor Adventurers</td>\n",
       "      <td>11</td>\n",
       "      <td>Nov</td>\n",
       "      <td>100016.568147</td>\n",
       "      <td>37.392037</td>\n",
       "      <td>0.079847</td>\n",
       "      <td>12563.993874</td>\n",
       "      <td>4.993617</td>\n",
       "      <td>553.865850</td>\n",
       "      <td>5455.547626</td>\n",
       "      <td>5.472894</td>\n",
       "    </tr>\n",
       "    <tr>\n",
       "      <th>9</th>\n",
       "      <td>Tech Enthusiasts</td>\n",
       "      <td>11</td>\n",
       "      <td>Nov</td>\n",
       "      <td>100481.488896</td>\n",
       "      <td>37.594538</td>\n",
       "      <td>0.080054</td>\n",
       "      <td>12457.986495</td>\n",
       "      <td>5.013893</td>\n",
       "      <td>549.560924</td>\n",
       "      <td>5480.155762</td>\n",
       "      <td>5.448980</td>\n",
       "    </tr>\n",
       "  </tbody>\n",
       "</table>\n",
       "</div>"
      ],
      "text/plain": [
       "      Customer_Segment  month month_txt    Campaign_ID   Duration  \\\n",
       "0     Tech Enthusiasts     12       Dec   99393.767193  37.662995   \n",
       "1              Foodies     12       Dec   99639.935916  37.576464   \n",
       "2    Health & Wellness     12       Dec  100945.394081  37.348374   \n",
       "3  Outdoor Adventurers     12       Dec  100527.597651  37.136564   \n",
       "4         Fashionistas     12       Dec   99780.969625  37.285587   \n",
       "5         Fashionistas     11       Nov  100767.510292  37.179724   \n",
       "6    Health & Wellness     11       Nov  100962.998461  37.082179   \n",
       "7              Foodies     11       Nov   98541.849656  36.904762   \n",
       "8  Outdoor Adventurers     11       Nov  100016.568147  37.392037   \n",
       "9     Tech Enthusiasts     11       Nov  100481.488896  37.594538   \n",
       "\n",
       "   Conversion_Rate  Acquisition_Cost       ROI      Clicks  Impressions  \\\n",
       "0         0.080179      12452.518011  4.967824  547.274784  5491.440905   \n",
       "1         0.080912      12597.622779  5.016070  543.429071  5407.637635   \n",
       "2         0.079663      12492.348960  5.022221  551.176384  5611.342514   \n",
       "3         0.081386      12577.532746  5.008896  545.335389  5537.488987   \n",
       "4         0.078919      12488.944610  4.994875  550.349017  5505.736450   \n",
       "5         0.079994      12487.531797  4.975868  544.952381  5571.303840   \n",
       "6         0.081046      12502.669437  4.996974  549.049246  5563.480456   \n",
       "7         0.080566      12490.325846  5.015259  548.838275  5526.233603   \n",
       "8         0.079847      12563.993874  4.993617  553.865850  5455.547626   \n",
       "9         0.080054      12457.986495  5.013893  549.560924  5480.155762   \n",
       "\n",
       "   Engagement_Score  \n",
       "0          5.475141  \n",
       "1          5.593941  \n",
       "2          5.535599  \n",
       "3          5.494273  \n",
       "4          5.581596  \n",
       "5          5.443932  \n",
       "6          5.444444  \n",
       "7          5.474693  \n",
       "8          5.472894  \n",
       "9          5.448980  "
      ]
     },
     "execution_count": 10,
     "metadata": {},
     "output_type": "execute_result"
    }
   ],
   "source": [
    "#Creating dataframe to plot by month \n",
    "\n",
    "df_by_month = df.groupby(['Customer_Segment','month','month_txt']).mean('ROI').sort_values('month',ascending=False).reset_index()\n",
    "df_by_month.head(10)"
   ]
  },
  {
   "cell_type": "code",
   "execution_count": 11,
   "id": "1c53d79b",
   "metadata": {
    "execution": {
     "iopub.execute_input": "2025-05-21T22:08:47.395339Z",
     "iopub.status.busy": "2025-05-21T22:08:47.395023Z",
     "iopub.status.idle": "2025-05-21T22:08:47.842793Z",
     "shell.execute_reply": "2025-05-21T22:08:47.841768Z"
    },
    "papermill": {
     "duration": 0.463649,
     "end_time": "2025-05-21T22:08:47.844603",
     "exception": false,
     "start_time": "2025-05-21T22:08:47.380954",
     "status": "completed"
    },
    "tags": []
   },
   "outputs": [
    {
     "data": {
      "image/png": "[encoded data removed]",
      "text/plain": [
       "<Figure size 640x480 with 1 Axes>"
      ]
     },
     "metadata": {},
     "output_type": "display_data"
    }
   ],
   "source": [
    "# Plot the graph \n",
    "\n",
    "plt.bar(x=df_by_month['month_txt'],height = df_by_month ['ROI'],label= 'ROI', color='skyblue', edgecolor='black')\n",
    "plt.xlabel('month')\n",
    "plt.ylabel('average ROI')\n",
    "plt.title('Avg ROI by month')\n",
    "plt.ylim(4.95, 5.07) \n",
    "plt.grid(axis='y', linestyle='--', alpha=0.7)\n",
    "plt.tight_layout()\n",
    "plt.legend()\n",
    "plt.show()"
   ]
  },
  {
   "cell_type": "markdown",
   "id": "5d205095",
   "metadata": {
    "papermill": {
     "duration": 0.012896,
     "end_time": "2025-05-21T22:08:47.871321",
     "exception": false,
     "start_time": "2025-05-21T22:08:47.858425",
     "status": "completed"
    },
    "tags": []
   },
   "source": [
    "September has the highest average ROI for overall customer segment. "
   ]
  },
  {
   "cell_type": "code",
   "execution_count": 12,
   "id": "c4f2abc5",
   "metadata": {
    "execution": {
     "iopub.execute_input": "2025-05-21T22:08:47.899150Z",
     "iopub.status.busy": "2025-05-21T22:08:47.898795Z",
     "iopub.status.idle": "2025-05-21T22:08:48.302962Z",
     "shell.execute_reply": "2025-05-21T22:08:48.302040Z"
    },
    "papermill": {
     "duration": 0.422134,
     "end_time": "2025-05-21T22:08:48.306763",
     "exception": false,
     "start_time": "2025-05-21T22:08:47.884629",
     "status": "completed"
    },
    "tags": []
   },
   "outputs": [
    {
     "name": "stderr",
     "output_type": "stream",
     "text": [
      "/usr/local/lib/python3.11/dist-packages/seaborn/_oldcore.py:1119: FutureWarning: use_inf_as_na option is deprecated and will be removed in a future version. Convert inf values to NaN before operating instead.\n",
      "  with pd.option_context('mode.use_inf_as_na', True):\n",
      "/usr/local/lib/python3.11/dist-packages/seaborn/_oldcore.py:1119: FutureWarning: use_inf_as_na option is deprecated and will be removed in a future version. Convert inf values to NaN before operating instead.\n",
      "  with pd.option_context('mode.use_inf_as_na', True):\n",
      "/usr/local/lib/python3.11/dist-packages/seaborn/_oldcore.py:1075: FutureWarning: When grouping with a length-1 list-like, you will need to pass a length-1 tuple to get_group in a future version of pandas. Pass `(name,)` instead of `name` to silence this warning.\n",
      "  data_subset = grouped_data.get_group(pd_key)\n",
      "/usr/local/lib/python3.11/dist-packages/seaborn/_oldcore.py:1075: FutureWarning: When grouping with a length-1 list-like, you will need to pass a length-1 tuple to get_group in a future version of pandas. Pass `(name,)` instead of `name` to silence this warning.\n",
      "  data_subset = grouped_data.get_group(pd_key)\n",
      "/usr/local/lib/python3.11/dist-packages/seaborn/_oldcore.py:1075: FutureWarning: When grouping with a length-1 list-like, you will need to pass a length-1 tuple to get_group in a future version of pandas. Pass `(name,)` instead of `name` to silence this warning.\n",
      "  data_subset = grouped_data.get_group(pd_key)\n",
      "/usr/local/lib/python3.11/dist-packages/seaborn/_oldcore.py:1075: FutureWarning: When grouping with a length-1 list-like, you will need to pass a length-1 tuple to get_group in a future version of pandas. Pass `(name,)` instead of `name` to silence this warning.\n",
      "  data_subset = grouped_data.get_group(pd_key)\n",
      "/usr/local/lib/python3.11/dist-packages/seaborn/_oldcore.py:1075: FutureWarning: When grouping with a length-1 list-like, you will need to pass a length-1 tuple to get_group in a future version of pandas. Pass `(name,)` instead of `name` to silence this warning.\n",
      "  data_subset = grouped_data.get_group(pd_key)\n",
      "/tmp/ipykernel_13/3809555919.py:12: UserWarning: Glyph 128200 (\\N{CHART WITH UPWARDS TREND}) missing from current font.\n",
      "  plt.tight_layout()\n",
      "/usr/local/lib/python3.11/dist-packages/IPython/core/pylabtools.py:151: UserWarning: Glyph 128200 (\\N{CHART WITH UPWARDS TREND}) missing from current font.\n",
      "  fig.canvas.print_figure(bytes_io, **kw)\n"
     ]
    },
    {
     "data": {
      "image/png": "[encoded data removed]",
      "text/plain": [
       "<Figure size 1200x600 with 1 Axes>"
      ]
     },
     "metadata": {},
     "output_type": "display_data"
    }
   ],
   "source": [
    "# plot the graph to describe ROI group by customer segment\n",
    "\n",
    "plt.figure(figsize=(12, 6))\n",
    "sns.lineplot(data=df_by_month, x='month_txt', y='ROI', hue='Customer_Segment', marker='o')\n",
    "\n",
    "plt.title('📈 Average ROI by Month and Customer Segment')\n",
    "plt.xlabel('Month')\n",
    "plt.ylabel('Average ROI')\n",
    "plt.ylim(4.95, 5.07)  # Focus range\n",
    "plt.grid(True)\n",
    "plt.legend(title='Customer Segment')\n",
    "plt.tight_layout()\n",
    "plt.show()\n"
   ]
  },
  {
   "cell_type": "markdown",
   "id": "88e89c4f",
   "metadata": {
    "papermill": {
     "duration": 0.01802,
     "end_time": "2025-05-21T22:08:48.343953",
     "exception": false,
     "start_time": "2025-05-21T22:08:48.325933",
     "status": "completed"
    },
    "tags": []
   },
   "source": [
    "By Checking ROI by Customer Segment , We can consider that which month will hvae high chance on ROI for each Customer Segment. "
   ]
  },
  {
   "cell_type": "code",
   "execution_count": 13,
   "id": "9a09bd54",
   "metadata": {
    "execution": {
     "iopub.execute_input": "2025-05-21T22:08:48.382014Z",
     "iopub.status.busy": "2025-05-21T22:08:48.381716Z",
     "iopub.status.idle": "2025-05-21T22:08:48.409719Z",
     "shell.execute_reply": "2025-05-21T22:08:48.408667Z"
    },
    "papermill": {
     "duration": 0.048733,
     "end_time": "2025-05-21T22:08:48.411209",
     "exception": false,
     "start_time": "2025-05-21T22:08:48.362476",
     "status": "completed"
    },
    "tags": []
   },
   "outputs": [
    {
     "data": {
      "text/html": [
       "<div>\n",
       "<style scoped>\n",
       "    .dataframe tbody tr th:only-of-type {\n",
       "        vertical-align: middle;\n",
       "    }\n",
       "\n",
       "    .dataframe tbody tr th {\n",
       "        vertical-align: top;\n",
       "    }\n",
       "\n",
       "    .dataframe thead th {\n",
       "        text-align: right;\n",
       "    }\n",
       "</style>\n",
       "<table border=\"1\" class=\"dataframe\">\n",
       "  <thead>\n",
       "    <tr style=\"text-align: right;\">\n",
       "      <th></th>\n",
       "      <th>Campaign_ID</th>\n",
       "      <th>Company</th>\n",
       "      <th>Campaign_Type</th>\n",
       "      <th>Target_Audience</th>\n",
       "      <th>Duration</th>\n",
       "      <th>Channel_Used</th>\n",
       "      <th>Conversion_Rate</th>\n",
       "      <th>Acquisition_Cost</th>\n",
       "      <th>ROI</th>\n",
       "      <th>Location</th>\n",
       "      <th>Language</th>\n",
       "      <th>Clicks</th>\n",
       "      <th>Impressions</th>\n",
       "      <th>Engagement_Score</th>\n",
       "      <th>Customer_Segment</th>\n",
       "      <th>Date</th>\n",
       "      <th>month</th>\n",
       "      <th>month_txt</th>\n",
       "    </tr>\n",
       "  </thead>\n",
       "  <tbody>\n",
       "    <tr>\n",
       "      <th>119737</th>\n",
       "      <td>119738</td>\n",
       "      <td>Innovate Industries</td>\n",
       "      <td>Influencer</td>\n",
       "      <td>Women 35-44</td>\n",
       "      <td>60</td>\n",
       "      <td>Email</td>\n",
       "      <td>0.08</td>\n",
       "      <td>7089.0</td>\n",
       "      <td>6.34</td>\n",
       "      <td>New York</td>\n",
       "      <td>German</td>\n",
       "      <td>692</td>\n",
       "      <td>8092</td>\n",
       "      <td>2</td>\n",
       "      <td>Tech Enthusiasts</td>\n",
       "      <td>2021-01-18</td>\n",
       "      <td>1</td>\n",
       "      <td>Jan</td>\n",
       "    </tr>\n",
       "    <tr>\n",
       "      <th>72272</th>\n",
       "      <td>72273</td>\n",
       "      <td>TechCorp</td>\n",
       "      <td>Influencer</td>\n",
       "      <td>Women 25-34</td>\n",
       "      <td>60</td>\n",
       "      <td>Email</td>\n",
       "      <td>0.03</td>\n",
       "      <td>13500.0</td>\n",
       "      <td>2.75</td>\n",
       "      <td>Los Angeles</td>\n",
       "      <td>German</td>\n",
       "      <td>269</td>\n",
       "      <td>8825</td>\n",
       "      <td>4</td>\n",
       "      <td>Foodies</td>\n",
       "      <td>2021-01-03</td>\n",
       "      <td>1</td>\n",
       "      <td>Jan</td>\n",
       "    </tr>\n",
       "    <tr>\n",
       "      <th>158154</th>\n",
       "      <td>158155</td>\n",
       "      <td>TechCorp</td>\n",
       "      <td>Email</td>\n",
       "      <td>Women 35-44</td>\n",
       "      <td>45</td>\n",
       "      <td>Google Ads</td>\n",
       "      <td>0.07</td>\n",
       "      <td>9687.0</td>\n",
       "      <td>3.72</td>\n",
       "      <td>Houston</td>\n",
       "      <td>Spanish</td>\n",
       "      <td>840</td>\n",
       "      <td>9038</td>\n",
       "      <td>5</td>\n",
       "      <td>Outdoor Adventurers</td>\n",
       "      <td>2021-04-20</td>\n",
       "      <td>4</td>\n",
       "      <td>Apr</td>\n",
       "    </tr>\n",
       "    <tr>\n",
       "      <th>65426</th>\n",
       "      <td>65427</td>\n",
       "      <td>Alpha Innovations</td>\n",
       "      <td>Display</td>\n",
       "      <td>All Ages</td>\n",
       "      <td>30</td>\n",
       "      <td>Facebook</td>\n",
       "      <td>0.09</td>\n",
       "      <td>8760.0</td>\n",
       "      <td>5.45</td>\n",
       "      <td>Houston</td>\n",
       "      <td>English</td>\n",
       "      <td>616</td>\n",
       "      <td>3303</td>\n",
       "      <td>7</td>\n",
       "      <td>Health &amp; Wellness</td>\n",
       "      <td>2021-04-02</td>\n",
       "      <td>4</td>\n",
       "      <td>Apr</td>\n",
       "    </tr>\n",
       "    <tr>\n",
       "      <th>30074</th>\n",
       "      <td>30075</td>\n",
       "      <td>TechCorp</td>\n",
       "      <td>Social Media</td>\n",
       "      <td>Women 25-34</td>\n",
       "      <td>15</td>\n",
       "      <td>Google Ads</td>\n",
       "      <td>0.11</td>\n",
       "      <td>18925.0</td>\n",
       "      <td>6.72</td>\n",
       "      <td>Houston</td>\n",
       "      <td>English</td>\n",
       "      <td>538</td>\n",
       "      <td>7364</td>\n",
       "      <td>1</td>\n",
       "      <td>Fashionistas</td>\n",
       "      <td>2021-05-25</td>\n",
       "      <td>5</td>\n",
       "      <td>May</td>\n",
       "    </tr>\n",
       "    <tr>\n",
       "      <th>23677</th>\n",
       "      <td>23678</td>\n",
       "      <td>Alpha Innovations</td>\n",
       "      <td>Email</td>\n",
       "      <td>Women 35-44</td>\n",
       "      <td>30</td>\n",
       "      <td>Website</td>\n",
       "      <td>0.06</td>\n",
       "      <td>17573.0</td>\n",
       "      <td>6.40</td>\n",
       "      <td>Houston</td>\n",
       "      <td>German</td>\n",
       "      <td>220</td>\n",
       "      <td>6313</td>\n",
       "      <td>2</td>\n",
       "      <td>Foodies</td>\n",
       "      <td>2021-11-14</td>\n",
       "      <td>11</td>\n",
       "      <td>Nov</td>\n",
       "    </tr>\n",
       "    <tr>\n",
       "      <th>134858</th>\n",
       "      <td>134859</td>\n",
       "      <td>Innovate Industries</td>\n",
       "      <td>Influencer</td>\n",
       "      <td>Women 25-34</td>\n",
       "      <td>60</td>\n",
       "      <td>Instagram</td>\n",
       "      <td>0.06</td>\n",
       "      <td>10722.0</td>\n",
       "      <td>4.73</td>\n",
       "      <td>Miami</td>\n",
       "      <td>French</td>\n",
       "      <td>569</td>\n",
       "      <td>9046</td>\n",
       "      <td>1</td>\n",
       "      <td>Outdoor Adventurers</td>\n",
       "      <td>2021-06-23</td>\n",
       "      <td>6</td>\n",
       "      <td>Jun</td>\n",
       "    </tr>\n",
       "    <tr>\n",
       "      <th>176418</th>\n",
       "      <td>176419</td>\n",
       "      <td>NexGen Systems</td>\n",
       "      <td>Social Media</td>\n",
       "      <td>Women 35-44</td>\n",
       "      <td>60</td>\n",
       "      <td>Google Ads</td>\n",
       "      <td>0.02</td>\n",
       "      <td>14221.0</td>\n",
       "      <td>7.70</td>\n",
       "      <td>Miami</td>\n",
       "      <td>English</td>\n",
       "      <td>935</td>\n",
       "      <td>9389</td>\n",
       "      <td>8</td>\n",
       "      <td>Health &amp; Wellness</td>\n",
       "      <td>2021-05-04</td>\n",
       "      <td>5</td>\n",
       "      <td>May</td>\n",
       "    </tr>\n",
       "    <tr>\n",
       "      <th>132467</th>\n",
       "      <td>132468</td>\n",
       "      <td>Innovate Industries</td>\n",
       "      <td>Email</td>\n",
       "      <td>Women 35-44</td>\n",
       "      <td>45</td>\n",
       "      <td>Email</td>\n",
       "      <td>0.01</td>\n",
       "      <td>11174.0</td>\n",
       "      <td>2.44</td>\n",
       "      <td>Houston</td>\n",
       "      <td>Mandarin</td>\n",
       "      <td>985</td>\n",
       "      <td>4230</td>\n",
       "      <td>2</td>\n",
       "      <td>Fashionistas</td>\n",
       "      <td>2021-12-04</td>\n",
       "      <td>12</td>\n",
       "      <td>Dec</td>\n",
       "    </tr>\n",
       "    <tr>\n",
       "      <th>4082</th>\n",
       "      <td>4083</td>\n",
       "      <td>TechCorp</td>\n",
       "      <td>Social Media</td>\n",
       "      <td>Women 25-34</td>\n",
       "      <td>60</td>\n",
       "      <td>Facebook</td>\n",
       "      <td>0.15</td>\n",
       "      <td>15909.0</td>\n",
       "      <td>4.23</td>\n",
       "      <td>New York</td>\n",
       "      <td>Spanish</td>\n",
       "      <td>266</td>\n",
       "      <td>6822</td>\n",
       "      <td>1</td>\n",
       "      <td>Fashionistas</td>\n",
       "      <td>2021-03-09</td>\n",
       "      <td>3</td>\n",
       "      <td>Mar</td>\n",
       "    </tr>\n",
       "  </tbody>\n",
       "</table>\n",
       "</div>"
      ],
      "text/plain": [
       "        Campaign_ID              Company Campaign_Type Target_Audience  \\\n",
       "119737       119738  Innovate Industries    Influencer     Women 35-44   \n",
       "72272         72273             TechCorp    Influencer     Women 25-34   \n",
       "158154       158155             TechCorp         Email     Women 35-44   \n",
       "65426         65427    Alpha Innovations       Display        All Ages   \n",
       "30074         30075             TechCorp  Social Media     Women 25-34   \n",
       "23677         23678    Alpha Innovations         Email     Women 35-44   \n",
       "134858       134859  Innovate Industries    Influencer     Women 25-34   \n",
       "176418       176419       NexGen Systems  Social Media     Women 35-44   \n",
       "132467       132468  Innovate Industries         Email     Women 35-44   \n",
       "4082           4083             TechCorp  Social Media     Women 25-34   \n",
       "\n",
       "        Duration Channel_Used  Conversion_Rate  Acquisition_Cost   ROI  \\\n",
       "119737        60        Email             0.08            7089.0  6.34   \n",
       "72272         60        Email             0.03           13500.0  2.75   \n",
       "158154        45   Google Ads             0.07            9687.0  3.72   \n",
       "65426         30     Facebook             0.09            8760.0  5.45   \n",
       "30074         15   Google Ads             0.11           18925.0  6.72   \n",
       "23677         30      Website             0.06           17573.0  6.40   \n",
       "134858        60    Instagram             0.06           10722.0  4.73   \n",
       "176418        60   Google Ads             0.02           14221.0  7.70   \n",
       "132467        45        Email             0.01           11174.0  2.44   \n",
       "4082          60     Facebook             0.15           15909.0  4.23   \n",
       "\n",
       "           Location  Language  Clicks  Impressions  Engagement_Score  \\\n",
       "119737     New York    German     692         8092                 2   \n",
       "72272   Los Angeles    German     269         8825                 4   \n",
       "158154      Houston   Spanish     840         9038                 5   \n",
       "65426       Houston   English     616         3303                 7   \n",
       "30074       Houston   English     538         7364                 1   \n",
       "23677       Houston    German     220         6313                 2   \n",
       "134858        Miami    French     569         9046                 1   \n",
       "176418        Miami   English     935         9389                 8   \n",
       "132467      Houston  Mandarin     985         4230                 2   \n",
       "4082       New York   Spanish     266         6822                 1   \n",
       "\n",
       "           Customer_Segment       Date  month month_txt  \n",
       "119737     Tech Enthusiasts 2021-01-18      1       Jan  \n",
       "72272               Foodies 2021-01-03      1       Jan  \n",
       "158154  Outdoor Adventurers 2021-04-20      4       Apr  \n",
       "65426     Health & Wellness 2021-04-02      4       Apr  \n",
       "30074          Fashionistas 2021-05-25      5       May  \n",
       "23677               Foodies 2021-11-14     11       Nov  \n",
       "134858  Outdoor Adventurers 2021-06-23      6       Jun  \n",
       "176418    Health & Wellness 2021-05-04      5       May  \n",
       "132467         Fashionistas 2021-12-04     12       Dec  \n",
       "4082           Fashionistas 2021-03-09      3       Mar  "
      ]
     },
     "execution_count": 13,
     "metadata": {},
     "output_type": "execute_result"
    }
   ],
   "source": [
    "campaign_sample = df.sample(n=50, random_state =42)\n",
    "campaign_sample.head(10)"
   ]
  },
  {
   "cell_type": "code",
   "execution_count": 14,
   "id": "6f88bf6d",
   "metadata": {
    "execution": {
     "iopub.execute_input": "2025-05-21T22:08:48.450562Z",
     "iopub.status.busy": "2025-05-21T22:08:48.450218Z",
     "iopub.status.idle": "2025-05-21T22:08:48.467790Z",
     "shell.execute_reply": "2025-05-21T22:08:48.466595Z"
    },
    "papermill": {
     "duration": 0.039057,
     "end_time": "2025-05-21T22:08:48.469412",
     "exception": false,
     "start_time": "2025-05-21T22:08:48.430355",
     "status": "completed"
    },
    "tags": []
   },
   "outputs": [
    {
     "data": {
      "text/html": [
       "<div>\n",
       "<style scoped>\n",
       "    .dataframe tbody tr th:only-of-type {\n",
       "        vertical-align: middle;\n",
       "    }\n",
       "\n",
       "    .dataframe tbody tr th {\n",
       "        vertical-align: top;\n",
       "    }\n",
       "\n",
       "    .dataframe thead th {\n",
       "        text-align: right;\n",
       "    }\n",
       "</style>\n",
       "<table border=\"1\" class=\"dataframe\">\n",
       "  <thead>\n",
       "    <tr style=\"text-align: right;\">\n",
       "      <th></th>\n",
       "      <th>ROI</th>\n",
       "      <th>Conversion_Rate</th>\n",
       "      <th>Acquisition_Cost</th>\n",
       "      <th>Impressions</th>\n",
       "    </tr>\n",
       "    <tr>\n",
       "      <th>Campaign_Type</th>\n",
       "      <th></th>\n",
       "      <th></th>\n",
       "      <th></th>\n",
       "      <th></th>\n",
       "    </tr>\n",
       "  </thead>\n",
       "  <tbody>\n",
       "    <tr>\n",
       "      <th>Influencer</th>\n",
       "      <td>7.94</td>\n",
       "      <td>0.15</td>\n",
       "      <td>19803.0</td>\n",
       "      <td>9991</td>\n",
       "    </tr>\n",
       "    <tr>\n",
       "      <th>Social Media</th>\n",
       "      <td>7.70</td>\n",
       "      <td>0.15</td>\n",
       "      <td>18925.0</td>\n",
       "      <td>9389</td>\n",
       "    </tr>\n",
       "    <tr>\n",
       "      <th>Display</th>\n",
       "      <td>7.24</td>\n",
       "      <td>0.14</td>\n",
       "      <td>19080.0</td>\n",
       "      <td>9670</td>\n",
       "    </tr>\n",
       "    <tr>\n",
       "      <th>Search</th>\n",
       "      <td>6.88</td>\n",
       "      <td>0.13</td>\n",
       "      <td>18666.0</td>\n",
       "      <td>8986</td>\n",
       "    </tr>\n",
       "    <tr>\n",
       "      <th>Email</th>\n",
       "      <td>7.41</td>\n",
       "      <td>0.10</td>\n",
       "      <td>19494.0</td>\n",
       "      <td>9193</td>\n",
       "    </tr>\n",
       "  </tbody>\n",
       "</table>\n",
       "</div>"
      ],
      "text/plain": [
       "                ROI  Conversion_Rate  Acquisition_Cost  Impressions\n",
       "Campaign_Type                                                      \n",
       "Influencer     7.94             0.15           19803.0         9991\n",
       "Social Media   7.70             0.15           18925.0         9389\n",
       "Display        7.24             0.14           19080.0         9670\n",
       "Search         6.88             0.13           18666.0         8986\n",
       "Email          7.41             0.10           19494.0         9193"
      ]
     },
     "execution_count": 14,
     "metadata": {},
     "output_type": "execute_result"
    }
   ],
   "source": [
    "grouped = (campaign_sample[['Campaign_Type','ROI','Conversion_Rate','Acquisition_Cost','Impressions']].groupby('Campaign_Type').max().sort_values(by='Conversion_Rate',ascending=False))\n",
    "grouped"
   ]
  },
  {
   "cell_type": "markdown",
   "id": "b34cac4a",
   "metadata": {
    "papermill": {
     "duration": 0.019089,
     "end_time": "2025-05-21T22:08:48.507953",
     "exception": false,
     "start_time": "2025-05-21T22:08:48.488864",
     "status": "completed"
    },
    "tags": []
   },
   "source": [
    "### Circualting Target audience and Cannel aligment "
   ]
  },
  {
   "cell_type": "code",
   "execution_count": 15,
   "id": "06072410",
   "metadata": {
    "execution": {
     "iopub.execute_input": "2025-05-21T22:08:48.548412Z",
     "iopub.status.busy": "2025-05-21T22:08:48.547662Z",
     "iopub.status.idle": "2025-05-21T22:08:48.612508Z",
     "shell.execute_reply": "2025-05-21T22:08:48.611528Z"
    },
    "papermill": {
     "duration": 0.086618,
     "end_time": "2025-05-21T22:08:48.614107",
     "exception": false,
     "start_time": "2025-05-21T22:08:48.527489",
     "status": "completed"
    },
    "tags": []
   },
   "outputs": [
    {
     "data": {
      "text/html": [
       "<div>\n",
       "<style scoped>\n",
       "    .dataframe tbody tr th:only-of-type {\n",
       "        vertical-align: middle;\n",
       "    }\n",
       "\n",
       "    .dataframe tbody tr th {\n",
       "        vertical-align: top;\n",
       "    }\n",
       "\n",
       "    .dataframe thead th {\n",
       "        text-align: right;\n",
       "    }\n",
       "</style>\n",
       "<table border=\"1\" class=\"dataframe\">\n",
       "  <thead>\n",
       "    <tr style=\"text-align: right;\">\n",
       "      <th></th>\n",
       "      <th>Target_Audience</th>\n",
       "      <th>Channel_Used</th>\n",
       "      <th>Campaign_ID</th>\n",
       "      <th>Duration</th>\n",
       "      <th>Conversion_Rate</th>\n",
       "      <th>Acquisition_Cost</th>\n",
       "      <th>ROI</th>\n",
       "      <th>Clicks</th>\n",
       "      <th>Impressions</th>\n",
       "      <th>Engagement_Score</th>\n",
       "      <th>month</th>\n",
       "    </tr>\n",
       "  </thead>\n",
       "  <tbody>\n",
       "    <tr>\n",
       "      <th>0</th>\n",
       "      <td>Men 25-34</td>\n",
       "      <td>Facebook</td>\n",
       "      <td>100469.033307</td>\n",
       "      <td>37.746269</td>\n",
       "      <td>0.080112</td>\n",
       "      <td>12480.986017</td>\n",
       "      <td>5.058776</td>\n",
       "      <td>549.442419</td>\n",
       "      <td>5510.102592</td>\n",
       "      <td>5.547840</td>\n",
       "      <td>6.518460</td>\n",
       "    </tr>\n",
       "    <tr>\n",
       "      <th>1</th>\n",
       "      <td>Men 25-34</td>\n",
       "      <td>Website</td>\n",
       "      <td>100311.428148</td>\n",
       "      <td>37.852588</td>\n",
       "      <td>0.080027</td>\n",
       "      <td>12432.246478</td>\n",
       "      <td>5.038518</td>\n",
       "      <td>554.655198</td>\n",
       "      <td>5539.778289</td>\n",
       "      <td>5.501705</td>\n",
       "      <td>6.529586</td>\n",
       "    </tr>\n",
       "    <tr>\n",
       "      <th>2</th>\n",
       "      <td>Women 35-44</td>\n",
       "      <td>Facebook</td>\n",
       "      <td>99279.011736</td>\n",
       "      <td>37.451359</td>\n",
       "      <td>0.080048</td>\n",
       "      <td>12578.494904</td>\n",
       "      <td>5.033879</td>\n",
       "      <td>549.158894</td>\n",
       "      <td>5508.602378</td>\n",
       "      <td>5.529802</td>\n",
       "      <td>6.570877</td>\n",
       "    </tr>\n",
       "    <tr>\n",
       "      <th>3</th>\n",
       "      <td>All Ages</td>\n",
       "      <td>Facebook</td>\n",
       "      <td>100529.105335</td>\n",
       "      <td>37.410458</td>\n",
       "      <td>0.079518</td>\n",
       "      <td>12457.586066</td>\n",
       "      <td>5.033015</td>\n",
       "      <td>546.716337</td>\n",
       "      <td>5505.154602</td>\n",
       "      <td>5.472873</td>\n",
       "      <td>6.519420</td>\n",
       "    </tr>\n",
       "    <tr>\n",
       "      <th>4</th>\n",
       "      <td>Men 25-34</td>\n",
       "      <td>Google Ads</td>\n",
       "      <td>99317.002497</td>\n",
       "      <td>37.410754</td>\n",
       "      <td>0.080721</td>\n",
       "      <td>12534.481857</td>\n",
       "      <td>5.030664</td>\n",
       "      <td>548.065374</td>\n",
       "      <td>5504.127075</td>\n",
       "      <td>5.447774</td>\n",
       "      <td>6.581460</td>\n",
       "    </tr>\n",
       "    <tr>\n",
       "      <th>5</th>\n",
       "      <td>All Ages</td>\n",
       "      <td>Website</td>\n",
       "      <td>99595.904590</td>\n",
       "      <td>37.148984</td>\n",
       "      <td>0.080339</td>\n",
       "      <td>12439.016403</td>\n",
       "      <td>5.027339</td>\n",
       "      <td>550.185704</td>\n",
       "      <td>5476.644846</td>\n",
       "      <td>5.495260</td>\n",
       "      <td>6.558916</td>\n",
       "    </tr>\n",
       "    <tr>\n",
       "      <th>6</th>\n",
       "      <td>All Ages</td>\n",
       "      <td>Google Ads</td>\n",
       "      <td>100221.588103</td>\n",
       "      <td>37.183099</td>\n",
       "      <td>0.080485</td>\n",
       "      <td>12521.109230</td>\n",
       "      <td>5.022231</td>\n",
       "      <td>546.369494</td>\n",
       "      <td>5526.148487</td>\n",
       "      <td>5.525472</td>\n",
       "      <td>6.478124</td>\n",
       "    </tr>\n",
       "    <tr>\n",
       "      <th>7</th>\n",
       "      <td>Women 35-44</td>\n",
       "      <td>Email</td>\n",
       "      <td>100104.392916</td>\n",
       "      <td>37.507814</td>\n",
       "      <td>0.080961</td>\n",
       "      <td>12525.661854</td>\n",
       "      <td>5.014520</td>\n",
       "      <td>547.615419</td>\n",
       "      <td>5540.270129</td>\n",
       "      <td>5.445751</td>\n",
       "      <td>6.564816</td>\n",
       "    </tr>\n",
       "    <tr>\n",
       "      <th>8</th>\n",
       "      <td>Women 25-34</td>\n",
       "      <td>Facebook</td>\n",
       "      <td>100646.721737</td>\n",
       "      <td>37.762285</td>\n",
       "      <td>0.079748</td>\n",
       "      <td>12498.139584</td>\n",
       "      <td>5.010939</td>\n",
       "      <td>550.853784</td>\n",
       "      <td>5489.371420</td>\n",
       "      <td>5.502563</td>\n",
       "      <td>6.515225</td>\n",
       "    </tr>\n",
       "    <tr>\n",
       "      <th>9</th>\n",
       "      <td>Women 35-44</td>\n",
       "      <td>YouTube</td>\n",
       "      <td>99686.816101</td>\n",
       "      <td>37.738781</td>\n",
       "      <td>0.080029</td>\n",
       "      <td>12468.710734</td>\n",
       "      <td>5.009632</td>\n",
       "      <td>552.659491</td>\n",
       "      <td>5509.104912</td>\n",
       "      <td>5.477259</td>\n",
       "      <td>6.503487</td>\n",
       "    </tr>\n",
       "  </tbody>\n",
       "</table>\n",
       "</div>"
      ],
      "text/plain": [
       "  Target_Audience Channel_Used    Campaign_ID   Duration  Conversion_Rate  \\\n",
       "0       Men 25-34     Facebook  100469.033307  37.746269         0.080112   \n",
       "1       Men 25-34      Website  100311.428148  37.852588         0.080027   \n",
       "2     Women 35-44     Facebook   99279.011736  37.451359         0.080048   \n",
       "3        All Ages     Facebook  100529.105335  37.410458         0.079518   \n",
       "4       Men 25-34   Google Ads   99317.002497  37.410754         0.080721   \n",
       "5        All Ages      Website   99595.904590  37.148984         0.080339   \n",
       "6        All Ages   Google Ads  100221.588103  37.183099         0.080485   \n",
       "7     Women 35-44        Email  100104.392916  37.507814         0.080961   \n",
       "8     Women 25-34     Facebook  100646.721737  37.762285         0.079748   \n",
       "9     Women 35-44      YouTube   99686.816101  37.738781         0.080029   \n",
       "\n",
       "   Acquisition_Cost       ROI      Clicks  Impressions  Engagement_Score  \\\n",
       "0      12480.986017  5.058776  549.442419  5510.102592          5.547840   \n",
       "1      12432.246478  5.038518  554.655198  5539.778289          5.501705   \n",
       "2      12578.494904  5.033879  549.158894  5508.602378          5.529802   \n",
       "3      12457.586066  5.033015  546.716337  5505.154602          5.472873   \n",
       "4      12534.481857  5.030664  548.065374  5504.127075          5.447774   \n",
       "5      12439.016403  5.027339  550.185704  5476.644846          5.495260   \n",
       "6      12521.109230  5.022231  546.369494  5526.148487          5.525472   \n",
       "7      12525.661854  5.014520  547.615419  5540.270129          5.445751   \n",
       "8      12498.139584  5.010939  550.853784  5489.371420          5.502563   \n",
       "9      12468.710734  5.009632  552.659491  5509.104912          5.477259   \n",
       "\n",
       "      month  \n",
       "0  6.518460  \n",
       "1  6.529586  \n",
       "2  6.570877  \n",
       "3  6.519420  \n",
       "4  6.581460  \n",
       "5  6.558916  \n",
       "6  6.478124  \n",
       "7  6.564816  \n",
       "8  6.515225  \n",
       "9  6.503487  "
      ]
     },
     "execution_count": 15,
     "metadata": {},
     "output_type": "execute_result"
    }
   ],
   "source": [
    "## Creating data frame to plot \n",
    "df_target = df.groupby(['Target_Audience','Channel_Used']).mean('ROI').sort_values('ROI',ascending=False).reset_index()\n",
    "df_target.head(10)"
   ]
  },
  {
   "cell_type": "code",
   "execution_count": 16,
   "id": "18c94caa",
   "metadata": {
    "execution": {
     "iopub.execute_input": "2025-05-21T22:08:48.655268Z",
     "iopub.status.busy": "2025-05-21T22:08:48.654949Z",
     "iopub.status.idle": "2025-05-21T22:08:49.005519Z",
     "shell.execute_reply": "2025-05-21T22:08:49.004362Z"
    },
    "papermill": {
     "duration": 0.372926,
     "end_time": "2025-05-21T22:08:49.007031",
     "exception": false,
     "start_time": "2025-05-21T22:08:48.634105",
     "status": "completed"
    },
    "tags": []
   },
   "outputs": [
    {
     "name": "stderr",
     "output_type": "stream",
     "text": [
      "/tmp/ipykernel_13/851710230.py:10: UserWarning: Glyph 128202 (\\N{BAR CHART}) missing from current font.\n",
      "  plt.tight_layout()\n",
      "/usr/local/lib/python3.11/dist-packages/IPython/core/pylabtools.py:151: UserWarning: Glyph 128202 (\\N{BAR CHART}) missing from current font.\n",
      "  fig.canvas.print_figure(bytes_io, **kw)\n"
     ]
    },
    {
     "data": {
      "image/png": "[encoded data removed]",
      "text/plain": [
       "<Figure size 1200x600 with 2 Axes>"
      ]
     },
     "metadata": {},
     "output_type": "display_data"
    }
   ],
   "source": [
    "\n",
    "# Pivot the data for heatmap\n",
    "pivot_table = df_target.pivot(index='Target_Audience', columns='Channel_Used', values='ROI')\n",
    "\n",
    "plt.figure(figsize=(12, 6))\n",
    "sns.heatmap(pivot_table, annot=True, cmap='YlGnBu', linewidths=0.5)\n",
    "\n",
    "plt.title(\"📊 Average ROI by Target Audience and Channel\")\n",
    "plt.xlabel(\"Channel\")\n",
    "plt.ylabel(\"Target Audience\")\n",
    "plt.tight_layout()\n",
    "plt.show()"
   ]
  },
  {
   "cell_type": "markdown",
   "id": "72eecd2c",
   "metadata": {
    "papermill": {
     "duration": 0.030776,
     "end_time": "2025-05-21T22:08:49.065074",
     "exception": false,
     "start_time": "2025-05-21T22:08:49.034298",
     "status": "completed"
    },
    "tags": []
   },
   "source": [
    "The average ROI of the campaigns is 5.002, with a minimum ROI of 2 and a maximum of 8.0. Therefore, I can assume that every campaign is successful, and those with ROI above the average are considered the most successful. I will segment the campaigns using a rating scale from 1 to 6 based on their ROI.\n",
    "\n",
    "* Campaigns with ROI between 2 and 3 will be rated 1.\n",
    "\n",
    "* Campaigns with ROI between 3 and 4 will be rated 2.\n",
    "\n",
    "* Campaigns with ROI between 4 and 5 will be rated 3.\n",
    "\n",
    "* Campaigns with ROI between 5 and 6 will be rated 4.\n",
    "\n",
    "* Campaigns with ROI between 6 and 7 will be rated 5.\n",
    "\n",
    "* Campaigns with ROI between 7 and 8 will be rated 6."
   ]
  },
  {
   "cell_type": "code",
   "execution_count": 17,
   "id": "d8d02b7e",
   "metadata": {
    "execution": {
     "iopub.execute_input": "2025-05-21T22:08:49.123136Z",
     "iopub.status.busy": "2025-05-21T22:08:49.122824Z",
     "iopub.status.idle": "2025-05-21T22:08:49.297545Z",
     "shell.execute_reply": "2025-05-21T22:08:49.296373Z"
    },
    "papermill": {
     "duration": 0.200507,
     "end_time": "2025-05-21T22:08:49.299408",
     "exception": false,
     "start_time": "2025-05-21T22:08:49.098901",
     "status": "completed"
    },
    "tags": []
   },
   "outputs": [],
   "source": [
    "# Define a function to assign ROI ratings\n",
    "def roi_rating(roi):\n",
    "    if 2 <= roi < 3:\n",
    "        return 1\n",
    "    elif 3 <= roi < 4:\n",
    "        return 2\n",
    "    elif 4 <= roi < 5:\n",
    "        return 3\n",
    "    elif 5 <= roi < 6:\n",
    "        return 4\n",
    "    elif 6 <= roi < 7:\n",
    "        return 5\n",
    "    elif 7 <= roi <= 8:\n",
    "        return 6\n",
    "    else:\n",
    "        return None  # In case ROI is outside expected range\n",
    "\n",
    "# Apply the function to create a new column\n",
    "df['ROI_Rating'] = df['ROI'].apply(roi_rating)\n"
   ]
  },
  {
   "cell_type": "code",
   "execution_count": 18,
   "id": "704410ce",
   "metadata": {
    "execution": {
     "iopub.execute_input": "2025-05-21T22:08:49.343912Z",
     "iopub.status.busy": "2025-05-21T22:08:49.343605Z",
     "iopub.status.idle": "2025-05-21T22:08:50.491771Z",
     "shell.execute_reply": "2025-05-21T22:08:50.490569Z"
    },
    "papermill": {
     "duration": 1.172857,
     "end_time": "2025-05-21T22:08:50.494246",
     "exception": false,
     "start_time": "2025-05-21T22:08:49.321389",
     "status": "completed"
    },
    "tags": []
   },
   "outputs": [
    {
     "name": "stderr",
     "output_type": "stream",
     "text": [
      "/usr/local/lib/python3.11/dist-packages/seaborn/_oldcore.py:1119: FutureWarning: use_inf_as_na option is deprecated and will be removed in a future version. Convert inf values to NaN before operating instead.\n",
      "  with pd.option_context('mode.use_inf_as_na', True):\n"
     ]
    },
    {
     "data": {
      "image/png": "[encoded data removed]",
      "text/plain": [
       "<Figure size 1000x600 with 1 Axes>"
      ]
     },
     "metadata": {},
     "output_type": "display_data"
    }
   ],
   "source": [
    "# Distribution of ROI\n",
    "\n",
    "# Define custom bins from 2.0 to 8.0 with 0.5 intervals\n",
    "bins = np.arange(2.0, 8.5, 0.5)  # [2.0, 2.5, ..., 8.0]\n",
    "\n",
    "plt.figure(figsize=(10, 6))\n",
    "sns.histplot(df['ROI'], bins=bins, kde=True, edgecolor='black')\n",
    "\n",
    "# Start y-axis from 3000\n",
    "plt.ylim(14000, None)\n",
    "\n",
    "# Labels and title\n",
    "plt.xlabel('ROI Range')\n",
    "plt.ylabel('Number of Campaigns')\n",
    "plt.title('Distribution of ROI (Bins: 0.5 Intervals from 2 to 8)')\n",
    "plt.grid(True)\n",
    "plt.show()\n",
    "\n"
   ]
  },
  {
   "cell_type": "markdown",
   "id": "3d0e6704",
   "metadata": {
    "papermill": {
     "duration": 0.023453,
     "end_time": "2025-05-21T22:08:50.546439",
     "exception": false,
     "start_time": "2025-05-21T22:08:50.522986",
     "status": "completed"
    },
    "tags": []
   },
   "source": [
    "ROI is equally distributed. "
   ]
  },
  {
   "cell_type": "code",
   "execution_count": 19,
   "id": "bf553fd5",
   "metadata": {
    "execution": {
     "iopub.execute_input": "2025-05-21T22:08:50.595838Z",
     "iopub.status.busy": "2025-05-21T22:08:50.594993Z",
     "iopub.status.idle": "2025-05-21T22:08:50.889664Z",
     "shell.execute_reply": "2025-05-21T22:08:50.888660Z"
    },
    "papermill": {
     "duration": 0.321099,
     "end_time": "2025-05-21T22:08:50.891279",
     "exception": false,
     "start_time": "2025-05-21T22:08:50.570180",
     "status": "completed"
    },
    "tags": []
   },
   "outputs": [
    {
     "data": {
      "text/plain": [
       "<Axes: xlabel='Campaign_Type', ylabel='Conversion_Rate'>"
      ]
     },
     "execution_count": 19,
     "metadata": {},
     "output_type": "execute_result"
    },
    {
     "data": {
      "image/png": "[encoded data removed]",
      "text/plain": [
       "<Figure size 640x480 with 1 Axes>"
      ]
     },
     "metadata": {},
     "output_type": "display_data"
    }
   ],
   "source": [
    "# Conversion Rate vs. Campaign Type\n",
    "sns.boxplot(data=df, x='Campaign_Type', y='Conversion_Rate')"
   ]
  },
  {
   "cell_type": "code",
   "execution_count": 20,
   "id": "b6024df2",
   "metadata": {
    "execution": {
     "iopub.execute_input": "2025-05-21T22:08:50.942402Z",
     "iopub.status.busy": "2025-05-21T22:08:50.941979Z",
     "iopub.status.idle": "2025-05-21T22:08:50.968865Z",
     "shell.execute_reply": "2025-05-21T22:08:50.967934Z"
    },
    "papermill": {
     "duration": 0.055088,
     "end_time": "2025-05-21T22:08:50.970827",
     "exception": false,
     "start_time": "2025-05-21T22:08:50.915739",
     "status": "completed"
    },
    "tags": []
   },
   "outputs": [
    {
     "data": {
      "text/plain": [
       "Campaign_Type\n",
       "Influencer      5.011068\n",
       "Search          5.008357\n",
       "Display         5.006551\n",
       "Email           4.994295\n",
       "Social Media    4.991784\n",
       "Name: ROI, dtype: float64"
      ]
     },
     "execution_count": 20,
     "metadata": {},
     "output_type": "execute_result"
    }
   ],
   "source": [
    "# Success rate by Campaign Type\n",
    "df.groupby('Campaign_Type')['ROI'].mean().sort_values(ascending=False)"
   ]
  },
  {
   "cell_type": "markdown",
   "id": "a5a60240",
   "metadata": {
    "papermill": {
     "duration": 0.024671,
     "end_time": "2025-05-21T22:08:51.023815",
     "exception": false,
     "start_time": "2025-05-21T22:08:50.999144",
     "status": "completed"
    },
    "tags": []
   },
   "source": [
    "### Segment by Customer Segment "
   ]
  },
  {
   "cell_type": "code",
   "execution_count": 21,
   "id": "1f71e446",
   "metadata": {
    "execution": {
     "iopub.execute_input": "2025-05-21T22:08:51.073681Z",
     "iopub.status.busy": "2025-05-21T22:08:51.073236Z",
     "iopub.status.idle": "2025-05-21T22:08:51.125918Z",
     "shell.execute_reply": "2025-05-21T22:08:51.124971Z"
    },
    "papermill": {
     "duration": 0.079469,
     "end_time": "2025-05-21T22:08:51.127555",
     "exception": false,
     "start_time": "2025-05-21T22:08:51.048086",
     "status": "completed"
    },
    "tags": []
   },
   "outputs": [
    {
     "name": "stdout",
     "output_type": "stream",
     "text": [
      "📊 ROI, Conversion Rate, Engagement Score by Customer Segment (mean, max, min)\n",
      "                     ROI           Conversion_Rate              \\\n",
      "                    mean  max  min            mean   max   min   \n",
      "Customer_Segment                                                 \n",
      "Fashionistas         5.0  8.0  2.0            0.08  0.15  0.01   \n",
      "Foodies              5.0  8.0  2.0            0.08  0.15  0.01   \n",
      "Health & Wellness    5.0  8.0  2.0            0.08  0.15  0.01   \n",
      "Outdoor Adventurers  5.0  8.0  2.0            0.08  0.15  0.01   \n",
      "Tech Enthusiasts     5.0  8.0  2.0            0.08  0.15  0.01   \n",
      "\n",
      "                    Engagement_Score          \n",
      "                                mean max min  \n",
      "Customer_Segment                              \n",
      "Fashionistas                    5.49  10   1  \n",
      "Foodies                         5.51  10   1  \n",
      "Health & Wellness               5.48  10   1  \n",
      "Outdoor Adventurers             5.50  10   1  \n",
      "Tech Enthusiasts                5.49  10   1  \n"
     ]
    }
   ],
   "source": [
    "# Group by Customer Segment with mean, max, and min\n",
    "customer_segment_summary = df.groupby('Customer_Segment').agg({\n",
    "    'ROI': ['mean', 'max', 'min'],\n",
    "    'Conversion_Rate': ['mean', 'max', 'min'],\n",
    "    'Engagement_Score': ['mean', 'max', 'min']\n",
    "}).round(2)\n",
    "\n",
    "# Optional: Sort by ROI mean descending\n",
    "customer_segment_summary = customer_segment_summary.sort_values(('ROI', 'mean'), ascending=False)\n",
    "\n",
    "# Display the summary\n",
    "print(\"📊 ROI, Conversion Rate, Engagement Score by Customer Segment (mean, max, min)\")\n",
    "print(customer_segment_summary)\n"
   ]
  },
  {
   "cell_type": "markdown",
   "id": "c9da1129",
   "metadata": {
    "papermill": {
     "duration": 0.026097,
     "end_time": "2025-05-21T22:08:51.178185",
     "exception": false,
     "start_time": "2025-05-21T22:08:51.152088",
     "status": "completed"
    },
    "tags": []
   },
   "source": [
    "### Group by Target audience"
   ]
  },
  {
   "cell_type": "code",
   "execution_count": 22,
   "id": "4004daca",
   "metadata": {
    "execution": {
     "iopub.execute_input": "2025-05-21T22:08:51.242492Z",
     "iopub.status.busy": "2025-05-21T22:08:51.241276Z",
     "iopub.status.idle": "2025-05-21T22:08:51.288541Z",
     "shell.execute_reply": "2025-05-21T22:08:51.287396Z"
    },
    "papermill": {
     "duration": 0.081121,
     "end_time": "2025-05-21T22:08:51.290070",
     "exception": false,
     "start_time": "2025-05-21T22:08:51.208949",
     "status": "completed"
    },
    "tags": []
   },
   "outputs": [
    {
     "name": "stdout",
     "output_type": "stream",
     "text": [
      "📊 ROI, Conversion Rate, Engagement by Target Audience (mean, max, min)\n",
      "                  ROI           Conversion_Rate             Engagement_Score  \\\n",
      "                 mean  max  min            mean   max   min             mean   \n",
      "Target_Audience                                                                \n",
      "Men 25-34        5.02  8.0  2.0            0.08  0.15  0.01             5.49   \n",
      "All Ages         5.01  8.0  2.0            0.08  0.15  0.01             5.49   \n",
      "Women 35-44      5.01  8.0  2.0            0.08  0.15  0.01             5.49   \n",
      "Women 25-34      5.00  8.0  2.0            0.08  0.15  0.01             5.49   \n",
      "Men 18-24        4.98  8.0  2.0            0.08  0.15  0.01             5.52   \n",
      "\n",
      "                         \n",
      "                max min  \n",
      "Target_Audience          \n",
      "Men 25-34        10   1  \n",
      "All Ages         10   1  \n",
      "Women 35-44      10   1  \n",
      "Women 25-34      10   1  \n",
      "Men 18-24        10   1  \n"
     ]
    }
   ],
   "source": [
    "# Group by Target Audience with mean, max, and min\n",
    "target_audience_summary = df.groupby('Target_Audience').agg({\n",
    "    'ROI': ['mean', 'max', 'min'],\n",
    "    'Conversion_Rate': ['mean', 'max', 'min'],\n",
    "    'Engagement_Score': ['mean', 'max', 'min']\n",
    "}).round(2)\n",
    "\n",
    "# Sort by mean ROI\n",
    "target_audience_summary = target_audience_summary.sort_values(('ROI', 'mean'), ascending=False)\n",
    "\n",
    "# Display results\n",
    "print(\"📊 ROI, Conversion Rate, Engagement by Target Audience (mean, max, min)\")\n",
    "print(target_audience_summary)\n"
   ]
  },
  {
   "cell_type": "code",
   "execution_count": 23,
   "id": "32eda086",
   "metadata": {
    "execution": {
     "iopub.execute_input": "2025-05-21T22:08:51.340235Z",
     "iopub.status.busy": "2025-05-21T22:08:51.339352Z",
     "iopub.status.idle": "2025-05-21T22:08:51.375588Z",
     "shell.execute_reply": "2025-05-21T22:08:51.374577Z"
    },
    "papermill": {
     "duration": 0.06258,
     "end_time": "2025-05-21T22:08:51.377283",
     "exception": false,
     "start_time": "2025-05-21T22:08:51.314703",
     "status": "completed"
    },
    "tags": []
   },
   "outputs": [],
   "source": [
    "# Reset index and flatten MultiIndex columns\n",
    "plot_target = df.groupby('Target_Audience').agg({\n",
    "    'ROI': ['mean', 'min', 'max'],\n",
    "    'Conversion_Rate': ['mean', 'min', 'max'],\n",
    "    'Engagement_Score': ['mean', 'min', 'max']\n",
    "}).round(2).reset_index()\n",
    "\n",
    "plot_target.columns = ['Target_Audience',\n",
    "                       'ROI_mean', 'ROI_min', 'ROI_max',\n",
    "                       'CR_mean', 'CR_min', 'CR_max',\n",
    "                       'Engagement_mean', 'Engagement_min', 'Engagement_max']\n"
   ]
  },
  {
   "cell_type": "code",
   "execution_count": 24,
   "id": "cc1d7470",
   "metadata": {
    "execution": {
     "iopub.execute_input": "2025-05-21T22:08:51.426491Z",
     "iopub.status.busy": "2025-05-21T22:08:51.426128Z",
     "iopub.status.idle": "2025-05-21T22:08:51.658785Z",
     "shell.execute_reply": "2025-05-21T22:08:51.657796Z"
    },
    "papermill": {
     "duration": 0.258946,
     "end_time": "2025-05-21T22:08:51.660372",
     "exception": false,
     "start_time": "2025-05-21T22:08:51.401426",
     "status": "completed"
    },
    "tags": []
   },
   "outputs": [
    {
     "name": "stderr",
     "output_type": "stream",
     "text": [
      "/tmp/ipykernel_13/4210999418.py:14: UserWarning: Glyph 128202 (\\N{BAR CHART}) missing from current font.\n",
      "  plt.tight_layout()\n",
      "/usr/local/lib/python3.11/dist-packages/IPython/core/pylabtools.py:151: UserWarning: Glyph 128202 (\\N{BAR CHART}) missing from current font.\n",
      "  fig.canvas.print_figure(bytes_io, **kw)\n"
     ]
    },
    {
     "data": {
      "image/png": "[encoded data removed]",
      "text/plain": [
       "<Figure size 1000x600 with 1 Axes>"
      ]
     },
     "metadata": {},
     "output_type": "display_data"
    }
   ],
   "source": [
    "import matplotlib.pyplot as plt\n",
    "\n",
    "plt.figure(figsize=(10, 6))\n",
    "plt.bar(plot_target['Target_Audience'], plot_target['ROI_mean'],\n",
    "        yerr=[plot_target['ROI_mean'] - plot_target['ROI_min'],\n",
    "              plot_target['ROI_max'] - plot_target['ROI_mean']],\n",
    "        capsize=5, color='mediumseagreen', edgecolor='black')\n",
    "\n",
    "plt.title('📊 Average ROI by Target Audience (with min/max)')\n",
    "plt.xlabel('Target Audience')\n",
    "plt.ylabel('ROI')\n",
    "plt.xticks(rotation=45)\n",
    "plt.grid(axis='y')\n",
    "plt.tight_layout()\n",
    "plt.show()\n"
   ]
  },
  {
   "cell_type": "code",
   "execution_count": 25,
   "id": "4b379613",
   "metadata": {
    "execution": {
     "iopub.execute_input": "2025-05-21T22:08:51.711890Z",
     "iopub.status.busy": "2025-05-21T22:08:51.711584Z",
     "iopub.status.idle": "2025-05-21T22:08:51.882558Z",
     "shell.execute_reply": "2025-05-21T22:08:51.881549Z"
    },
    "papermill": {
     "duration": 0.198397,
     "end_time": "2025-05-21T22:08:51.884379",
     "exception": false,
     "start_time": "2025-05-21T22:08:51.685982",
     "status": "completed"
    },
    "tags": []
   },
   "outputs": [
    {
     "data": {
      "text/plain": [
       "<BarContainer object of 5 artists>"
      ]
     },
     "execution_count": 25,
     "metadata": {},
     "output_type": "execute_result"
    },
    {
     "data": {
      "image/png": "[encoded data removed]",
      "text/plain": [
       "<Figure size 640x480 with 1 Axes>"
      ]
     },
     "metadata": {},
     "output_type": "display_data"
    }
   ],
   "source": [
    "plt.bar(plot_target['Target_Audience'], plot_target['CR_mean'],\n",
    "        yerr=[plot_target['CR_mean'] - plot_target['CR_min'],\n",
    "              plot_target['CR_max'] - plot_target['CR_mean']],\n",
    "        capsize=5, color='cornflowerblue', edgecolor='black')\n"
   ]
  },
  {
   "cell_type": "code",
   "execution_count": 26,
   "id": "3956932c",
   "metadata": {
    "execution": {
     "iopub.execute_input": "2025-05-21T22:08:51.936618Z",
     "iopub.status.busy": "2025-05-21T22:08:51.936285Z",
     "iopub.status.idle": "2025-05-21T22:08:52.100137Z",
     "shell.execute_reply": "2025-05-21T22:08:52.098967Z"
    },
    "papermill": {
     "duration": 0.191792,
     "end_time": "2025-05-21T22:08:52.101791",
     "exception": false,
     "start_time": "2025-05-21T22:08:51.909999",
     "status": "completed"
    },
    "tags": []
   },
   "outputs": [
    {
     "data": {
      "text/plain": [
       "<BarContainer object of 5 artists>"
      ]
     },
     "execution_count": 26,
     "metadata": {},
     "output_type": "execute_result"
    },
    {
     "data": {
      "image/png": "[encoded data removed]",
      "text/plain": [
       "<Figure size 640x480 with 1 Axes>"
      ]
     },
     "metadata": {},
     "output_type": "display_data"
    }
   ],
   "source": [
    "plt.bar(plot_target['Target_Audience'], plot_target['Engagement_mean'],\n",
    "        yerr=[plot_target['Engagement_mean'] - plot_target['Engagement_min'],\n",
    "              plot_target['Engagement_max'] - plot_target['Engagement_mean']],\n",
    "        capsize=5, color='orange', edgecolor='black')\n"
   ]
  },
  {
   "cell_type": "markdown",
   "id": "1a710283",
   "metadata": {
    "papermill": {
     "duration": 0.025648,
     "end_time": "2025-05-21T22:08:52.154232",
     "exception": false,
     "start_time": "2025-05-21T22:08:52.128584",
     "status": "completed"
    },
    "tags": []
   },
   "source": [
    "Based on the Visualisation , Mean , Max and min of convension rate, ROI and enagment rate are smilar by target audience and Customer segemnt . "
   ]
  },
  {
   "cell_type": "markdown",
   "id": "2c947cdc",
   "metadata": {
    "papermill": {
     "duration": 0.027252,
     "end_time": "2025-05-21T22:08:52.207509",
     "exception": false,
     "start_time": "2025-05-21T22:08:52.180257",
     "status": "completed"
    },
    "tags": []
   },
   "source": [
    "### Group by language and Region \n"
   ]
  },
  {
   "cell_type": "code",
   "execution_count": 27,
   "id": "f3ecd167",
   "metadata": {
    "execution": {
     "iopub.execute_input": "2025-05-21T22:08:52.260833Z",
     "iopub.status.busy": "2025-05-21T22:08:52.260105Z",
     "iopub.status.idle": "2025-05-21T22:08:52.290810Z",
     "shell.execute_reply": "2025-05-21T22:08:52.289677Z"
    },
    "papermill": {
     "duration": 0.059163,
     "end_time": "2025-05-21T22:08:52.292545",
     "exception": false,
     "start_time": "2025-05-21T22:08:52.233382",
     "status": "completed"
    },
    "tags": []
   },
   "outputs": [
    {
     "name": "stdout",
     "output_type": "stream",
     "text": [
      "\n",
      "📊 ROI, Conversion Rate, Engagement by Location\n",
      "              ROI  Conversion_Rate  Engagement_Score\n",
      "Location                                            \n",
      "Houston      5.01             0.08              5.51\n",
      "Los Angeles  5.01             0.08              5.49\n",
      "Miami        5.01             0.08              5.50\n",
      "Chicago      5.00             0.08              5.51\n",
      "New York     4.98             0.08              5.47\n"
     ]
    }
   ],
   "source": [
    "# Group by Location\n",
    "location_summary = df.groupby('Location').agg({\n",
    "    'ROI': 'mean',\n",
    "    'Conversion_Rate': 'mean',\n",
    "    'Engagement_Score': 'mean'\n",
    "}).round(2).sort_values(by='ROI', ascending=False)\n",
    "\n",
    "print(\"\\n📊 ROI, Conversion Rate, Engagement by Location\")\n",
    "print(location_summary)\n"
   ]
  },
  {
   "cell_type": "code",
   "execution_count": 28,
   "id": "3eb79eca",
   "metadata": {
    "execution": {
     "iopub.execute_input": "2025-05-21T22:08:52.347285Z",
     "iopub.status.busy": "2025-05-21T22:08:52.346538Z",
     "iopub.status.idle": "2025-05-21T22:08:52.377299Z",
     "shell.execute_reply": "2025-05-21T22:08:52.376198Z"
    },
    "papermill": {
     "duration": 0.06016,
     "end_time": "2025-05-21T22:08:52.379264",
     "exception": false,
     "start_time": "2025-05-21T22:08:52.319104",
     "status": "completed"
    },
    "tags": []
   },
   "outputs": [
    {
     "name": "stdout",
     "output_type": "stream",
     "text": [
      "\n",
      "📊 ROI, Conversion Rate, Engagement by Language\n",
      "           ROI  Conversion_Rate  Engagement_Score\n",
      "Language                                         \n",
      "French    5.01             0.08              5.47\n",
      "Mandarin  5.01             0.08              5.51\n",
      "German    5.00             0.08              5.51\n",
      "Spanish   5.00             0.08              5.50\n",
      "English   4.99             0.08              5.50\n"
     ]
    }
   ],
   "source": [
    "# Group by Language\n",
    "language_summary = df.groupby('Language').agg({\n",
    "    'ROI': 'mean',\n",
    "    'Conversion_Rate': 'mean',\n",
    "    'Engagement_Score': 'mean'\n",
    "}).round(2).sort_values(by='ROI', ascending=False)\n",
    "\n",
    "print(\"\\n📊 ROI, Conversion Rate, Engagement by Language\")\n",
    "print(language_summary)\n"
   ]
  },
  {
   "cell_type": "markdown",
   "id": "8f7b963f",
   "metadata": {
    "papermill": {
     "duration": 0.025954,
     "end_time": "2025-05-21T22:08:52.431737",
     "exception": false,
     "start_time": "2025-05-21T22:08:52.405783",
     "status": "completed"
    },
    "tags": []
   },
   "source": [
    "Since all campaign from the data set has very high ROI and It is difficult to get more data due to limlitation. I crate new Coloumn as very_success to support for building Machine learning"
   ]
  },
  {
   "cell_type": "code",
   "execution_count": 29,
   "id": "91ee0a74",
   "metadata": {
    "execution": {
     "iopub.execute_input": "2025-05-21T22:08:52.487619Z",
     "iopub.status.busy": "2025-05-21T22:08:52.487272Z",
     "iopub.status.idle": "2025-05-21T22:08:52.493094Z",
     "shell.execute_reply": "2025-05-21T22:08:52.492285Z"
    },
    "papermill": {
     "duration": 0.035489,
     "end_time": "2025-05-21T22:08:52.494719",
     "exception": false,
     "start_time": "2025-05-21T22:08:52.459230",
     "status": "completed"
    },
    "tags": []
   },
   "outputs": [],
   "source": [
    "# Creating Very Success Coloumn\n",
    "df['very_success']=df['ROI_Rating']>3"
   ]
  },
  {
   "cell_type": "markdown",
   "id": "7764e731",
   "metadata": {
    "papermill": {
     "duration": 0.026426,
     "end_time": "2025-05-21T22:08:52.547657",
     "exception": false,
     "start_time": "2025-05-21T22:08:52.521231",
     "status": "completed"
    },
    "tags": []
   },
   "source": [
    "## Feature Enginnering"
   ]
  },
  {
   "cell_type": "markdown",
   "id": "521b0615",
   "metadata": {
    "papermill": {
     "duration": 0.025942,
     "end_time": "2025-05-21T22:08:52.600377",
     "exception": false,
     "start_time": "2025-05-21T22:08:52.574435",
     "status": "completed"
    },
    "tags": []
   },
   "source": [
    "### Encode and Normalise Categorical Features\n"
   ]
  },
  {
   "cell_type": "code",
   "execution_count": 30,
   "id": "57f70b87",
   "metadata": {
    "execution": {
     "iopub.execute_input": "2025-05-21T22:08:52.655034Z",
     "iopub.status.busy": "2025-05-21T22:08:52.654724Z",
     "iopub.status.idle": "2025-05-21T22:08:53.068726Z",
     "shell.execute_reply": "2025-05-21T22:08:53.067725Z"
    },
    "papermill": {
     "duration": 0.443596,
     "end_time": "2025-05-21T22:08:53.070407",
     "exception": false,
     "start_time": "2025-05-21T22:08:52.626811",
     "status": "completed"
    },
    "tags": []
   },
   "outputs": [],
   "source": [
    "from sklearn.preprocessing import StandardScaler\n",
    "import pandas as pd\n",
    "\n",
    "# 🧼 1. Select your features\n",
    "features = ['Duration', 'Conversion_Rate', 'Acquisition_Cost', 'Clicks', 'Impressions', 'Engagement_Score',\n",
    "            'Campaign_Type', 'Target_Audience', 'Customer_Segment', 'Language', 'Location']\n",
    "\n",
    "# 🎯 2. Define your target\n",
    "target = 'very_success'\n",
    "\n",
    "# 🎛️ 3. Separate numeric and categorical features\n",
    "num_cols = ['Duration', 'Conversion_Rate', 'Acquisition_Cost', 'Clicks', 'Impressions', 'Engagement_Score']\n",
    "cat_cols = ['Campaign_Type', 'Target_Audience', 'Customer_Segment', 'Language', 'Location']\n",
    "\n",
    "# 🧠 4. One-hot encode categorical features\n",
    "X_cat = pd.get_dummies(df[cat_cols], drop_first=True)\n",
    "\n",
    "# 📏 5. Normalize numerical features\n",
    "scaler = StandardScaler()\n",
    "X_num = pd.DataFrame(scaler.fit_transform(df[num_cols]), columns=num_cols)\n",
    "\n",
    "# 🧱 6. Combine numeric and encoded categorical features\n",
    "X = pd.concat([X_num, X_cat], axis=1)\n",
    "\n",
    "# 🎯 7. Define target variable\n",
    "y = df[target].astype(int)\n"
   ]
  },
  {
   "cell_type": "code",
   "execution_count": 31,
   "id": "e4bb7b31",
   "metadata": {
    "execution": {
     "iopub.execute_input": "2025-05-21T22:08:53.124310Z",
     "iopub.status.busy": "2025-05-21T22:08:53.123979Z",
     "iopub.status.idle": "2025-05-21T22:08:53.145305Z",
     "shell.execute_reply": "2025-05-21T22:08:53.144253Z"
    },
    "papermill": {
     "duration": 0.050245,
     "end_time": "2025-05-21T22:08:53.147008",
     "exception": false,
     "start_time": "2025-05-21T22:08:53.096763",
     "status": "completed"
    },
    "tags": []
   },
   "outputs": [
    {
     "name": "stdout",
     "output_type": "stream",
     "text": [
      "✅ Feature shape: (200000, 26)\n",
      "✅ Sample features:\n",
      "    Duration  Conversion_Rate  Acquisition_Cost    Clicks  Impressions  \\\n",
      "0 -0.448087        -0.986900          0.845989 -0.168342    -1.380631   \n",
      "1  1.343313         0.983469         -0.216337 -1.668236     0.776207   \n",
      "2 -0.448087        -0.248011         -0.531253  0.131637     0.843596   \n",
      "3  1.343313         0.737173          0.050628 -1.279802    -1.419909   \n",
      "4 -1.343787        -0.740604          0.910079 -0.656769    -0.503032   \n",
      "\n",
      "   Engagement_Score  Campaign_Type_Email  Campaign_Type_Influencer  \\\n",
      "0          0.175901                 True                     False   \n",
      "1          0.524021                 True                     False   \n",
      "2         -1.564698                False                      True   \n",
      "3          0.524021                False                     False   \n",
      "4         -0.868458                 True                     False   \n",
      "\n",
      "   Campaign_Type_Search  Campaign_Type_Social Media  ...  \\\n",
      "0                 False                       False  ...   \n",
      "1                 False                       False  ...   \n",
      "2                 False                       False  ...   \n",
      "3                 False                       False  ...   \n",
      "4                 False                       False  ...   \n",
      "\n",
      "   Customer_Segment_Outdoor Adventurers  Customer_Segment_Tech Enthusiasts  \\\n",
      "0                                 False                              False   \n",
      "1                                 False                              False   \n",
      "2                                  True                              False   \n",
      "3                                 False                              False   \n",
      "4                                 False                              False   \n",
      "\n",
      "   Language_French  Language_German  Language_Mandarin  Language_Spanish  \\\n",
      "0            False            False              False              True   \n",
      "1            False             True              False             False   \n",
      "2             True            False              False             False   \n",
      "3            False            False               True             False   \n",
      "4            False            False               True             False   \n",
      "\n",
      "   Location_Houston  Location_Los Angeles  Location_Miami  Location_New York  \n",
      "0             False                 False           False              False  \n",
      "1             False                 False           False               True  \n",
      "2             False                  True           False              False  \n",
      "3             False                 False            True              False  \n",
      "4             False                  True           False              False  \n",
      "\n",
      "[5 rows x 26 columns]\n",
      "✅ Target distribution:\n",
      " very_success\n",
      "1    0.502\n",
      "0    0.498\n",
      "Name: proportion, dtype: float64\n"
     ]
    }
   ],
   "source": [
    "print(\"✅ Feature shape:\", X.shape)\n",
    "print(\"✅ Sample features:\\n\", X.head())\n",
    "print(\"✅ Target distribution:\\n\", y.value_counts(normalize=True))\n"
   ]
  },
  {
   "cell_type": "code",
   "execution_count": 32,
   "id": "4d4280ed",
   "metadata": {
    "execution": {
     "iopub.execute_input": "2025-05-21T22:08:53.202362Z",
     "iopub.status.busy": "2025-05-21T22:08:53.202049Z",
     "iopub.status.idle": "2025-05-21T22:08:53.279644Z",
     "shell.execute_reply": "2025-05-21T22:08:53.278739Z"
    },
    "papermill": {
     "duration": 0.106668,
     "end_time": "2025-05-21T22:08:53.281412",
     "exception": false,
     "start_time": "2025-05-21T22:08:53.174744",
     "status": "completed"
    },
    "tags": []
   },
   "outputs": [],
   "source": [
    "# Ensure 'Date' column is in datetime format\n",
    "df['Date'] = pd.to_datetime(df['Date'])\n",
    "\n",
    "# Extract Month and Day of Week\n",
    "df['Month'] = df['Date'].dt.month\n",
    "df['Day_of_Week'] = df['Date'].dt.day_name()\n"
   ]
  },
  {
   "cell_type": "code",
   "execution_count": 33,
   "id": "1cedc2c9",
   "metadata": {
    "execution": {
     "iopub.execute_input": "2025-05-21T22:08:53.338393Z",
     "iopub.status.busy": "2025-05-21T22:08:53.338085Z",
     "iopub.status.idle": "2025-05-21T22:08:54.376284Z",
     "shell.execute_reply": "2025-05-21T22:08:54.375162Z"
    },
    "papermill": {
     "duration": 1.06774,
     "end_time": "2025-05-21T22:08:54.378300",
     "exception": false,
     "start_time": "2025-05-21T22:08:53.310560",
     "status": "completed"
    },
    "tags": []
   },
   "outputs": [],
   "source": [
    "# Split multi-channel text into dummy variables\n",
    "channels = df['Channel_Used'].str.get_dummies(sep=', ')\n",
    "\n",
    "# Add back to the main DataFrame\n",
    "df = pd.concat([df, channels], axis=1)\n"
   ]
  },
  {
   "cell_type": "code",
   "execution_count": 34,
   "id": "3cfc7673",
   "metadata": {
    "execution": {
     "iopub.execute_input": "2025-05-21T22:08:54.432963Z",
     "iopub.status.busy": "2025-05-21T22:08:54.432630Z",
     "iopub.status.idle": "2025-05-21T22:08:55.550333Z",
     "shell.execute_reply": "2025-05-21T22:08:55.549209Z"
    },
    "papermill": {
     "duration": 1.147032,
     "end_time": "2025-05-21T22:08:55.552210",
     "exception": false,
     "start_time": "2025-05-21T22:08:54.405178",
     "status": "completed"
    },
    "tags": []
   },
   "outputs": [],
   "source": [
    "# Extract Gender and Age Range from Target_Audience\n",
    "df[['Gender', 'Age_Range']] = df['Target_Audience'].str.extract(r'(\\w+)\\s(\\d+-\\d+)', expand=True)\n",
    "\n",
    "# Optional: One-hot encode Gender or map to numeric\n",
    "df['Gender'] = df['Gender'].map({'Men': 0, 'Women': 1})\n",
    "\n",
    "# Optional: Create numeric age group midpoints\n",
    "df['Age_Group'] = df['Age_Range'].str.extract('(\\d+)-(\\d+)').astype(float).mean(axis=1)\n"
   ]
  },
  {
   "cell_type": "markdown",
   "id": "1f8de11d",
   "metadata": {
    "papermill": {
     "duration": 0.026777,
     "end_time": "2025-05-21T22:08:55.606831",
     "exception": false,
     "start_time": "2025-05-21T22:08:55.580054",
     "status": "completed"
    },
    "tags": []
   },
   "source": [
    "## Statistical analysis "
   ]
  },
  {
   "cell_type": "markdown",
   "id": "255832fd",
   "metadata": {
    "papermill": {
     "duration": 0.026291,
     "end_time": "2025-05-21T22:08:55.660421",
     "exception": false,
     "start_time": "2025-05-21T22:08:55.634130",
     "status": "completed"
    },
    "tags": []
   },
   "source": [
    "### ANOVA: Do Different Campaign Types Yield Different ROI?"
   ]
  },
  {
   "cell_type": "code",
   "execution_count": 35,
   "id": "0801a018",
   "metadata": {
    "execution": {
     "iopub.execute_input": "2025-05-21T22:08:55.719644Z",
     "iopub.status.busy": "2025-05-21T22:08:55.719154Z",
     "iopub.status.idle": "2025-05-21T22:08:55.806849Z",
     "shell.execute_reply": "2025-05-21T22:08:55.805752Z"
    },
    "papermill": {
     "duration": 0.121476,
     "end_time": "2025-05-21T22:08:55.808610",
     "exception": false,
     "start_time": "2025-05-21T22:08:55.687134",
     "status": "completed"
    },
    "tags": []
   },
   "outputs": [
    {
     "name": "stdout",
     "output_type": "stream",
     "text": [
      "ANOVA F-statistic: 1.017\n",
      "P-value: 0.39688\n",
      "❌ No significant difference in ROI across campaign types.\n"
     ]
    }
   ],
   "source": [
    "from scipy.stats import f_oneway\n",
    "\n",
    "# Create separate ROI groups for each Campaign Type\n",
    "groups = [group['ROI'].values for name, group in df.groupby('Campaign_Type')]\n",
    "\n",
    "# Perform one-way ANOVA\n",
    "f_stat, p_val = f_oneway(*groups)\n",
    "\n",
    "print(f\"ANOVA F-statistic: {f_stat:.3f}\")\n",
    "print(f\"P-value: {p_val:.5f}\")\n",
    "\n",
    "# Interpretation\n",
    "if p_val < 0.05:\n",
    "    print(\"✅ Significant difference in ROI across campaign types.\")\n",
    "else:\n",
    "    print(\"❌ No significant difference in ROI across campaign types.\")\n"
   ]
  },
  {
   "cell_type": "markdown",
   "id": "48c7cd2e",
   "metadata": {
    "papermill": {
     "duration": 0.026014,
     "end_time": "2025-05-21T22:08:55.862081",
     "exception": false,
     "start_time": "2025-05-21T22:08:55.836067",
     "status": "completed"
    },
    "tags": []
   },
   "source": [
    "###  Correlation: Engagement Score vs Conversions (or ROI)"
   ]
  },
  {
   "cell_type": "code",
   "execution_count": 36,
   "id": "94f43560",
   "metadata": {
    "execution": {
     "iopub.execute_input": "2025-05-21T22:08:55.916761Z",
     "iopub.status.busy": "2025-05-21T22:08:55.916369Z",
     "iopub.status.idle": "2025-05-21T22:08:55.935197Z",
     "shell.execute_reply": "2025-05-21T22:08:55.934102Z"
    },
    "papermill": {
     "duration": 0.048552,
     "end_time": "2025-05-21T22:08:55.937135",
     "exception": false,
     "start_time": "2025-05-21T22:08:55.888583",
     "status": "completed"
    },
    "tags": []
   },
   "outputs": [
    {
     "name": "stdout",
     "output_type": "stream",
     "text": [
      "📈 Correlation between Engagement Score and Conversion Rate: -0.001 (p-value: 0.77526)\n",
      "❌ No statistically significant correlation.\n"
     ]
    }
   ],
   "source": [
    "from scipy.stats import pearsonr\n",
    "\n",
    "corr, p = pearsonr(df['Engagement_Score'], df['Conversion_Rate'])\n",
    "\n",
    "print(f\"📈 Correlation between Engagement Score and Conversion Rate: {corr:.3f} (p-value: {p:.5f})\")\n",
    "\n",
    "if p < 0.05:\n",
    "    print(\"✅ Statistically significant correlation.\")\n",
    "else:\n",
    "    print(\"❌ No statistically significant correlation.\")\n"
   ]
  },
  {
   "cell_type": "markdown",
   "id": "eb52a82b",
   "metadata": {
    "papermill": {
     "duration": 0.028197,
     "end_time": "2025-05-21T22:08:55.997021",
     "exception": false,
     "start_time": "2025-05-21T22:08:55.968824",
     "status": "completed"
    },
    "tags": []
   },
   "source": [
    "### Code: Loop Over Each Month and Run ANOVA"
   ]
  },
  {
   "cell_type": "code",
   "execution_count": 37,
   "id": "4631b8b4",
   "metadata": {
    "execution": {
     "iopub.execute_input": "2025-05-21T22:08:56.056931Z",
     "iopub.status.busy": "2025-05-21T22:08:56.056179Z",
     "iopub.status.idle": "2025-05-21T22:08:57.462316Z",
     "shell.execute_reply": "2025-05-21T22:08:57.461269Z"
    },
    "papermill": {
     "duration": 1.437332,
     "end_time": "2025-05-21T22:08:57.464026",
     "exception": false,
     "start_time": "2025-05-21T22:08:56.026694",
     "status": "completed"
    },
    "tags": []
   },
   "outputs": [
    {
     "name": "stdout",
     "output_type": "stream",
     "text": [
      "📊 ANOVA Results: ROI ~ Customer Segment per Month\n",
      "        Month  F-statistic  P-value Significant\n",
      "3       April       1.0791  0.36490        ❌ No\n",
      "7      August       0.7731  0.54247        ❌ No\n",
      "11   December       0.5336  0.71107        ❌ No\n",
      "1    February       0.8204  0.51189        ❌ No\n",
      "0     January       0.9814  0.41621        ❌ No\n",
      "6        July       0.9078  0.45825        ❌ No\n",
      "5        June       0.4322  0.78551        ❌ No\n",
      "2       March       0.5728  0.68236        ❌ No\n",
      "4         May       0.7014  0.59088        ❌ No\n",
      "10   November       0.2870  0.88657        ❌ No\n",
      "9     October       0.5872  0.67189        ❌ No\n",
      "8   September       0.7421  0.56315        ❌ No\n"
     ]
    }
   ],
   "source": [
    "from scipy.stats import f_oneway\n",
    "import pandas as pd\n",
    "\n",
    "# Ensure 'Date' is datetime and extract month name\n",
    "df['Date'] = pd.to_datetime(df['Date'])\n",
    "df['Month_Name'] = df['Date'].dt.strftime('%B')\n",
    "\n",
    "# Prepare result list\n",
    "anova_results = []\n",
    "\n",
    "# Loop through each month\n",
    "for month in df['Month_Name'].unique():\n",
    "    # Subset data for that month\n",
    "    month_df = df[df['Month_Name'] == month]\n",
    "    \n",
    "    # Group by customer segment\n",
    "    groups = [g['ROI'].values for _, g in month_df.groupby('Customer_Segment')]\n",
    "\n",
    "    # Run ANOVA if there are at least 2 groups\n",
    "    if len(groups) > 1:\n",
    "        f_stat, p_val = f_oneway(*groups)\n",
    "        anova_results.append({\n",
    "            'Month': month,\n",
    "            'F-statistic': round(f_stat, 4),\n",
    "            'P-value': round(p_val, 5),\n",
    "            'Significant': '✅ Yes' if p_val < 0.05 else '❌ No'\n",
    "        })\n",
    "\n",
    "# Convert to DataFrame\n",
    "anova_df = pd.DataFrame(anova_results).sort_values('Month')\n",
    "\n",
    "# Display result\n",
    "print(\"📊 ANOVA Results: ROI ~ Customer Segment per Month\")\n",
    "print(anova_df)\n"
   ]
  },
  {
   "cell_type": "markdown",
   "id": "e9c6314a",
   "metadata": {
    "papermill": {
     "duration": 0.026669,
     "end_time": "2025-05-21T22:08:57.518306",
     "exception": false,
     "start_time": "2025-05-21T22:08:57.491637",
     "status": "completed"
    },
    "tags": []
   },
   "source": [
    "### Outliner Detection "
   ]
  },
  {
   "cell_type": "code",
   "execution_count": 38,
   "id": "4a07169d",
   "metadata": {
    "execution": {
     "iopub.execute_input": "2025-05-21T22:08:57.573891Z",
     "iopub.status.busy": "2025-05-21T22:08:57.573558Z",
     "iopub.status.idle": "2025-05-21T22:08:57.596004Z",
     "shell.execute_reply": "2025-05-21T22:08:57.594888Z"
    },
    "papermill": {
     "duration": 0.052419,
     "end_time": "2025-05-21T22:08:57.597628",
     "exception": false,
     "start_time": "2025-05-21T22:08:57.545209",
     "status": "completed"
    },
    "tags": []
   },
   "outputs": [
    {
     "name": "stdout",
     "output_type": "stream",
     "text": [
      "📦 Found 0 outliers in 'ROI' using IQR method.\n",
      "Empty DataFrame\n",
      "Columns: [ROI]\n",
      "Index: []\n"
     ]
    }
   ],
   "source": [
    "# Choose the numeric column\n",
    "col = 'ROI'  # Replace with 'Conversion_Rate', etc. as needed\n",
    "\n",
    "# Calculate IQR\n",
    "Q1 = df[col].quantile(0.25)\n",
    "Q3 = df[col].quantile(0.75)\n",
    "IQR = Q3 - Q1\n",
    "\n",
    "# Define lower and upper bounds\n",
    "lower_bound = Q1 - 1.5 * IQR\n",
    "upper_bound = Q3 + 1.5 * IQR\n",
    "\n",
    "# Detect outliers\n",
    "outliers = df[(df[col] < lower_bound) | (df[col] > upper_bound)]\n",
    "\n",
    "print(f\"📦 Found {len(outliers)} outliers in '{col}' using IQR method.\")\n",
    "print(outliers[[col]].head())\n",
    "\n"
   ]
  },
  {
   "cell_type": "markdown",
   "id": "51a67ba0",
   "metadata": {
    "papermill": {
     "duration": 0.026149,
     "end_time": "2025-05-21T22:08:57.650719",
     "exception": false,
     "start_time": "2025-05-21T22:08:57.624570",
     "status": "completed"
    },
    "tags": []
   },
   "source": [
    "## Building Logistic Regression Classifier"
   ]
  },
  {
   "cell_type": "markdown",
   "id": "d623c58c",
   "metadata": {
    "papermill": {
     "duration": 0.026877,
     "end_time": "2025-05-21T22:08:57.704643",
     "exception": false,
     "start_time": "2025-05-21T22:08:57.677766",
     "status": "completed"
    },
    "tags": []
   },
   "source": [
    "### Train/Test Split"
   ]
  },
  {
   "cell_type": "code",
   "execution_count": 39,
   "id": "7b1ba68a",
   "metadata": {
    "execution": {
     "iopub.execute_input": "2025-05-21T22:08:57.759371Z",
     "iopub.status.busy": "2025-05-21T22:08:57.759015Z",
     "iopub.status.idle": "2025-05-21T22:08:57.929341Z",
     "shell.execute_reply": "2025-05-21T22:08:57.928368Z"
    },
    "papermill": {
     "duration": 0.199833,
     "end_time": "2025-05-21T22:08:57.931157",
     "exception": false,
     "start_time": "2025-05-21T22:08:57.731324",
     "status": "completed"
    },
    "tags": []
   },
   "outputs": [],
   "source": [
    "from sklearn.model_selection import train_test_split\n",
    "\n",
    "X_train, X_test, y_train, y_test = train_test_split(X, y, test_size=0.2, random_state=42)\n"
   ]
  },
  {
   "cell_type": "markdown",
   "id": "d008ed59",
   "metadata": {
    "papermill": {
     "duration": 0.026368,
     "end_time": "2025-05-21T22:08:57.984371",
     "exception": false,
     "start_time": "2025-05-21T22:08:57.958003",
     "status": "completed"
    },
    "tags": []
   },
   "source": [
    "### Train the Model"
   ]
  },
  {
   "cell_type": "code",
   "execution_count": 40,
   "id": "6e1c0e67",
   "metadata": {
    "execution": {
     "iopub.execute_input": "2025-05-21T22:08:58.039105Z",
     "iopub.status.busy": "2025-05-21T22:08:58.038776Z",
     "iopub.status.idle": "2025-05-21T22:08:58.566591Z",
     "shell.execute_reply": "2025-05-21T22:08:58.565716Z"
    },
    "papermill": {
     "duration": 0.557472,
     "end_time": "2025-05-21T22:08:58.568591",
     "exception": false,
     "start_time": "2025-05-21T22:08:58.011119",
     "status": "completed"
    },
    "tags": []
   },
   "outputs": [
    {
     "data": {
      "text/html": [
       "<style>#sk-container-id-1 {color: black;background-color: white;}#sk-container-id-1 pre{padding: 0;}#sk-container-id-1 div.sk-toggleable {background-color: white;}#sk-container-id-1 label.sk-toggleable__label {cursor: pointer;display: block;width: 100%;margin-bottom: 0;padding: 0.3em;box-sizing: border-box;text-align: center;}#sk-container-id-1 label.sk-toggleable__label-arrow:before {content: \"▸\";float: left;margin-right: 0.25em;color: #696969;}#sk-container-id-1 label.sk-toggleable__label-arrow:hover:before {color: black;}#sk-container-id-1 div.sk-estimator:hover label.sk-toggleable__label-arrow:before {color: black;}#sk-container-id-1 div.sk-toggleable__content {max-height: 0;max-width: 0;overflow: hidden;text-align: left;background-color: #f0f8ff;}#sk-container-id-1 div.sk-toggleable__content pre {margin: 0.2em;color: black;border-radius: 0.25em;background-color: #f0f8ff;}#sk-container-id-1 input.sk-toggleable__control:checked~div.sk-toggleable__content {max-height: 200px;max-width: 100%;overflow: auto;}#sk-container-id-1 input.sk-toggleable__control:checked~label.sk-toggleable__label-arrow:before {content: \"▾\";}#sk-container-id-1 div.sk-estimator input.sk-toggleable__control:checked~label.sk-toggleable__label {background-color: #d4ebff;}#sk-container-id-1 div.sk-label input.sk-toggleable__control:checked~label.sk-toggleable__label {background-color: #d4ebff;}#sk-container-id-1 input.sk-hidden--visually {border: 0;clip: rect(1px 1px 1px 1px);clip: rect(1px, 1px, 1px, 1px);height: 1px;margin: -1px;overflow: hidden;padding: 0;position: absolute;width: 1px;}#sk-container-id-1 div.sk-estimator {font-family: monospace;background-color: #f0f8ff;border: 1px dotted black;border-radius: 0.25em;box-sizing: border-box;margin-bottom: 0.5em;}#sk-container-id-1 div.sk-estimator:hover {background-color: #d4ebff;}#sk-container-id-1 div.sk-parallel-item::after {content: \"\";width: 100%;border-bottom: 1px solid gray;flex-grow: 1;}#sk-container-id-1 div.sk-label:hover label.sk-toggleable__label {background-color: #d4ebff;}#sk-container-id-1 div.sk-serial::before {content: \"\";position: absolute;border-left: 1px solid gray;box-sizing: border-box;top: 0;bottom: 0;left: 50%;z-index: 0;}#sk-container-id-1 div.sk-serial {display: flex;flex-direction: column;align-items: center;background-color: white;padding-right: 0.2em;padding-left: 0.2em;position: relative;}#sk-container-id-1 div.sk-item {position: relative;z-index: 1;}#sk-container-id-1 div.sk-parallel {display: flex;align-items: stretch;justify-content: center;background-color: white;position: relative;}#sk-container-id-1 div.sk-item::before, #sk-container-id-1 div.sk-parallel-item::before {content: \"\";position: absolute;border-left: 1px solid gray;box-sizing: border-box;top: 0;bottom: 0;left: 50%;z-index: -1;}#sk-container-id-1 div.sk-parallel-item {display: flex;flex-direction: column;z-index: 1;position: relative;background-color: white;}#sk-container-id-1 div.sk-parallel-item:first-child::after {align-self: flex-end;width: 50%;}#sk-container-id-1 div.sk-parallel-item:last-child::after {align-self: flex-start;width: 50%;}#sk-container-id-1 div.sk-parallel-item:only-child::after {width: 0;}#sk-container-id-1 div.sk-dashed-wrapped {border: 1px dashed gray;margin: 0 0.4em 0.5em 0.4em;box-sizing: border-box;padding-bottom: 0.4em;background-color: white;}#sk-container-id-1 div.sk-label label {font-family: monospace;font-weight: bold;display: inline-block;line-height: 1.2em;}#sk-container-id-1 div.sk-label-container {text-align: center;}#sk-container-id-1 div.sk-container {/* jupyter's `normalize.less` sets `[hidden] { display: none; }` but bootstrap.min.css set `[hidden] { display: none !important; }` so we also need the `!important` here to be able to override the default hidden behavior on the sphinx rendered scikit-learn.org. See: https://github.com/scikit-learn/scikit-learn/issues/21755 */display: inline-block !important;position: relative;}#sk-container-id-1 div.sk-text-repr-fallback {display: none;}</style><div id=\"sk-container-id-1\" class=\"sk-top-container\"><div class=\"sk-text-repr-fallback\"><pre>LogisticRegression(max_iter=1000)</pre><b>In a Jupyter environment, please rerun this cell to show the HTML representation or trust the notebook. <br />On GitHub, the HTML representation is unable to render, please try loading this page with nbviewer.org.</b></div><div class=\"sk-container\" hidden><div class=\"sk-item\"><div class=\"sk-estimator sk-toggleable\"><input class=\"sk-toggleable__control sk-hidden--visually\" id=\"sk-estimator-id-1\" type=\"checkbox\" checked><label for=\"sk-estimator-id-1\" class=\"sk-toggleable__label sk-toggleable__label-arrow\">LogisticRegression</label><div class=\"sk-toggleable__content\"><pre>LogisticRegression(max_iter=1000)</pre></div></div></div></div></div>"
      ],
      "text/plain": [
       "LogisticRegression(max_iter=1000)"
      ]
     },
     "execution_count": 40,
     "metadata": {},
     "output_type": "execute_result"
    }
   ],
   "source": [
    "from sklearn.linear_model import LogisticRegression\n",
    "\n",
    "logreg = LogisticRegression(max_iter=1000)\n",
    "logreg.fit(X_train, y_train)\n"
   ]
  },
  {
   "cell_type": "markdown",
   "id": "d7c9a13a",
   "metadata": {
    "papermill": {
     "duration": 0.039575,
     "end_time": "2025-05-21T22:08:58.651234",
     "exception": false,
     "start_time": "2025-05-21T22:08:58.611659",
     "status": "completed"
    },
    "tags": []
   },
   "source": [
    "###  Evaluate the Model"
   ]
  },
  {
   "cell_type": "code",
   "execution_count": 41,
   "id": "c986b654",
   "metadata": {
    "execution": {
     "iopub.execute_input": "2025-05-21T22:08:58.708732Z",
     "iopub.status.busy": "2025-05-21T22:08:58.707790Z",
     "iopub.status.idle": "2025-05-21T22:08:58.839376Z",
     "shell.execute_reply": "2025-05-21T22:08:58.838230Z"
    },
    "papermill": {
     "duration": 0.161768,
     "end_time": "2025-05-21T22:08:58.841082",
     "exception": false,
     "start_time": "2025-05-21T22:08:58.679314",
     "status": "completed"
    },
    "tags": []
   },
   "outputs": [
    {
     "name": "stdout",
     "output_type": "stream",
     "text": [
      "Confusion Matrix:\n",
      " [[ 7499 12415]\n",
      " [ 7681 12405]]\n",
      "\n",
      "Classification Report:\n",
      "               precision    recall  f1-score   support\n",
      "\n",
      "           0       0.49      0.38      0.43     19914\n",
      "           1       0.50      0.62      0.55     20086\n",
      "\n",
      "    accuracy                           0.50     40000\n",
      "   macro avg       0.50      0.50      0.49     40000\n",
      "weighted avg       0.50      0.50      0.49     40000\n",
      "\n",
      "\n",
      "ROC AUC Score: 0.4955181921313725\n"
     ]
    }
   ],
   "source": [
    "from sklearn.metrics import classification_report, confusion_matrix, roc_auc_score\n",
    "\n",
    "y_pred = logreg.predict(X_test)\n",
    "y_proba = logreg.predict_proba(X_test)[:, 1]\n",
    "\n",
    "print(\"Confusion Matrix:\\n\", confusion_matrix(y_test, y_pred))\n",
    "print(\"\\nClassification Report:\\n\", classification_report(y_test, y_pred))\n",
    "print(\"\\nROC AUC Score:\", roc_auc_score(y_test, y_proba))\n"
   ]
  },
  {
   "cell_type": "markdown",
   "id": "d476c870",
   "metadata": {
    "papermill": {
     "duration": 0.026689,
     "end_time": "2025-05-21T22:08:58.895130",
     "exception": false,
     "start_time": "2025-05-21T22:08:58.868441",
     "status": "completed"
    },
    "tags": []
   },
   "source": [
    "### Feature Importance (via Coefficients)"
   ]
  },
  {
   "cell_type": "code",
   "execution_count": 42,
   "id": "477ab7ba",
   "metadata": {
    "execution": {
     "iopub.execute_input": "2025-05-21T22:08:58.951054Z",
     "iopub.status.busy": "2025-05-21T22:08:58.950747Z",
     "iopub.status.idle": "2025-05-21T22:08:59.359708Z",
     "shell.execute_reply": "2025-05-21T22:08:59.358522Z"
    },
    "papermill": {
     "duration": 0.438899,
     "end_time": "2025-05-21T22:08:59.361394",
     "exception": false,
     "start_time": "2025-05-21T22:08:58.922495",
     "status": "completed"
    },
    "tags": []
   },
   "outputs": [
    {
     "data": {
      "image/png": "[encoded data removed]",
      "text/plain": [
       "<Figure size 1000x800 with 1 Axes>"
      ]
     },
     "metadata": {},
     "output_type": "display_data"
    }
   ],
   "source": [
    "import pandas as pd\n",
    "import matplotlib.pyplot as plt\n",
    "\n",
    "coef = pd.Series(logreg.coef_[0], index=X.columns)\n",
    "coef = coef.sort_values()\n",
    "\n",
    "plt.figure(figsize=(10, 8))\n",
    "coef.tail(20).plot(kind='barh', color='green')  # Top 20 positive features\n",
    "plt.title(\"Top 20 Features Driving Very Successful Campaigns\")\n",
    "plt.tight_layout()\n",
    "plt.show()\n"
   ]
  },
  {
   "cell_type": "markdown",
   "id": "7c62a1f7",
   "metadata": {
    "papermill": {
     "duration": 0.029207,
     "end_time": "2025-05-21T22:08:59.420150",
     "exception": false,
     "start_time": "2025-05-21T22:08:59.390943",
     "status": "completed"
    },
    "tags": []
   },
   "source": [
    "## Random Forest Classifier"
   ]
  },
  {
   "cell_type": "markdown",
   "id": "c7c133bc",
   "metadata": {
    "papermill": {
     "duration": 0.028742,
     "end_time": "2025-05-21T22:08:59.477785",
     "exception": false,
     "start_time": "2025-05-21T22:08:59.449043",
     "status": "completed"
    },
    "tags": []
   },
   "source": [
    "### Train/Test Split"
   ]
  },
  {
   "cell_type": "code",
   "execution_count": 43,
   "id": "dc7ac2d0",
   "metadata": {
    "execution": {
     "iopub.execute_input": "2025-05-21T22:08:59.538665Z",
     "iopub.status.busy": "2025-05-21T22:08:59.538306Z",
     "iopub.status.idle": "2025-05-21T22:08:59.568113Z",
     "shell.execute_reply": "2025-05-21T22:08:59.567167Z"
    },
    "papermill": {
     "duration": 0.06332,
     "end_time": "2025-05-21T22:08:59.569986",
     "exception": false,
     "start_time": "2025-05-21T22:08:59.506666",
     "status": "completed"
    },
    "tags": []
   },
   "outputs": [],
   "source": [
    "from sklearn.model_selection import train_test_split\n",
    "\n",
    "X_train, X_test, y_train, y_test = train_test_split(X, y, test_size=0.2, random_state=42)\n"
   ]
  },
  {
   "cell_type": "markdown",
   "id": "618b3f62",
   "metadata": {
    "papermill": {
     "duration": 0.029161,
     "end_time": "2025-05-21T22:08:59.630208",
     "exception": false,
     "start_time": "2025-05-21T22:08:59.601047",
     "status": "completed"
    },
    "tags": []
   },
   "source": [
    "### Train Random Forest"
   ]
  },
  {
   "cell_type": "code",
   "execution_count": 44,
   "id": "ab8122f5",
   "metadata": {
    "execution": {
     "iopub.execute_input": "2025-05-21T22:08:59.691077Z",
     "iopub.status.busy": "2025-05-21T22:08:59.690752Z",
     "iopub.status.idle": "2025-05-21T22:09:46.178043Z",
     "shell.execute_reply": "2025-05-21T22:09:46.176791Z"
    },
    "papermill": {
     "duration": 46.550075,
     "end_time": "2025-05-21T22:09:46.210346",
     "exception": false,
     "start_time": "2025-05-21T22:08:59.660271",
     "status": "completed"
    },
    "tags": []
   },
   "outputs": [
    {
     "data": {
      "text/html": [
       "<style>#sk-container-id-2 {color: black;background-color: white;}#sk-container-id-2 pre{padding: 0;}#sk-container-id-2 div.sk-toggleable {background-color: white;}#sk-container-id-2 label.sk-toggleable__label {cursor: pointer;display: block;width: 100%;margin-bottom: 0;padding: 0.3em;box-sizing: border-box;text-align: center;}#sk-container-id-2 label.sk-toggleable__label-arrow:before {content: \"▸\";float: left;margin-right: 0.25em;color: #696969;}#sk-container-id-2 label.sk-toggleable__label-arrow:hover:before {color: black;}#sk-container-id-2 div.sk-estimator:hover label.sk-toggleable__label-arrow:before {color: black;}#sk-container-id-2 div.sk-toggleable__content {max-height: 0;max-width: 0;overflow: hidden;text-align: left;background-color: #f0f8ff;}#sk-container-id-2 div.sk-toggleable__content pre {margin: 0.2em;color: black;border-radius: 0.25em;background-color: #f0f8ff;}#sk-container-id-2 input.sk-toggleable__control:checked~div.sk-toggleable__content {max-height: 200px;max-width: 100%;overflow: auto;}#sk-container-id-2 input.sk-toggleable__control:checked~label.sk-toggleable__label-arrow:before {content: \"▾\";}#sk-container-id-2 div.sk-estimator input.sk-toggleable__control:checked~label.sk-toggleable__label {background-color: #d4ebff;}#sk-container-id-2 div.sk-label input.sk-toggleable__control:checked~label.sk-toggleable__label {background-color: #d4ebff;}#sk-container-id-2 input.sk-hidden--visually {border: 0;clip: rect(1px 1px 1px 1px);clip: rect(1px, 1px, 1px, 1px);height: 1px;margin: -1px;overflow: hidden;padding: 0;position: absolute;width: 1px;}#sk-container-id-2 div.sk-estimator {font-family: monospace;background-color: #f0f8ff;border: 1px dotted black;border-radius: 0.25em;box-sizing: border-box;margin-bottom: 0.5em;}#sk-container-id-2 div.sk-estimator:hover {background-color: #d4ebff;}#sk-container-id-2 div.sk-parallel-item::after {content: \"\";width: 100%;border-bottom: 1px solid gray;flex-grow: 1;}#sk-container-id-2 div.sk-label:hover label.sk-toggleable__label {background-color: #d4ebff;}#sk-container-id-2 div.sk-serial::before {content: \"\";position: absolute;border-left: 1px solid gray;box-sizing: border-box;top: 0;bottom: 0;left: 50%;z-index: 0;}#sk-container-id-2 div.sk-serial {display: flex;flex-direction: column;align-items: center;background-color: white;padding-right: 0.2em;padding-left: 0.2em;position: relative;}#sk-container-id-2 div.sk-item {position: relative;z-index: 1;}#sk-container-id-2 div.sk-parallel {display: flex;align-items: stretch;justify-content: center;background-color: white;position: relative;}#sk-container-id-2 div.sk-item::before, #sk-container-id-2 div.sk-parallel-item::before {content: \"\";position: absolute;border-left: 1px solid gray;box-sizing: border-box;top: 0;bottom: 0;left: 50%;z-index: -1;}#sk-container-id-2 div.sk-parallel-item {display: flex;flex-direction: column;z-index: 1;position: relative;background-color: white;}#sk-container-id-2 div.sk-parallel-item:first-child::after {align-self: flex-end;width: 50%;}#sk-container-id-2 div.sk-parallel-item:last-child::after {align-self: flex-start;width: 50%;}#sk-container-id-2 div.sk-parallel-item:only-child::after {width: 0;}#sk-container-id-2 div.sk-dashed-wrapped {border: 1px dashed gray;margin: 0 0.4em 0.5em 0.4em;box-sizing: border-box;padding-bottom: 0.4em;background-color: white;}#sk-container-id-2 div.sk-label label {font-family: monospace;font-weight: bold;display: inline-block;line-height: 1.2em;}#sk-container-id-2 div.sk-label-container {text-align: center;}#sk-container-id-2 div.sk-container {/* jupyter's `normalize.less` sets `[hidden] { display: none; }` but bootstrap.min.css set `[hidden] { display: none !important; }` so we also need the `!important` here to be able to override the default hidden behavior on the sphinx rendered scikit-learn.org. See: https://github.com/scikit-learn/scikit-learn/issues/21755 */display: inline-block !important;position: relative;}#sk-container-id-2 div.sk-text-repr-fallback {display: none;}</style><div id=\"sk-container-id-2\" class=\"sk-top-container\"><div class=\"sk-text-repr-fallback\"><pre>RandomForestClassifier(random_state=42)</pre><b>In a Jupyter environment, please rerun this cell to show the HTML representation or trust the notebook. <br />On GitHub, the HTML representation is unable to render, please try loading this page with nbviewer.org.</b></div><div class=\"sk-container\" hidden><div class=\"sk-item\"><div class=\"sk-estimator sk-toggleable\"><input class=\"sk-toggleable__control sk-hidden--visually\" id=\"sk-estimator-id-2\" type=\"checkbox\" checked><label for=\"sk-estimator-id-2\" class=\"sk-toggleable__label sk-toggleable__label-arrow\">RandomForestClassifier</label><div class=\"sk-toggleable__content\"><pre>RandomForestClassifier(random_state=42)</pre></div></div></div></div></div>"
      ],
      "text/plain": [
       "RandomForestClassifier(random_state=42)"
      ]
     },
     "execution_count": 44,
     "metadata": {},
     "output_type": "execute_result"
    }
   ],
   "source": [
    "from sklearn.ensemble import RandomForestClassifier\n",
    "\n",
    "rf_model = RandomForestClassifier(\n",
    "    n_estimators=100,      # number of trees\n",
    "    max_depth=None,        # allow trees to grow deep\n",
    "    random_state=42\n",
    ")\n",
    "\n",
    "rf_model.fit(X_train, y_train)\n"
   ]
  },
  {
   "cell_type": "markdown",
   "id": "e0ebd974",
   "metadata": {
    "papermill": {
     "duration": 0.028853,
     "end_time": "2025-05-21T22:09:46.270120",
     "exception": false,
     "start_time": "2025-05-21T22:09:46.241267",
     "status": "completed"
    },
    "tags": []
   },
   "source": [
    "### Evulate The Performance "
   ]
  },
  {
   "cell_type": "code",
   "execution_count": 45,
   "id": "c118d358",
   "metadata": {
    "execution": {
     "iopub.execute_input": "2025-05-21T22:09:46.329990Z",
     "iopub.status.busy": "2025-05-21T22:09:46.329666Z",
     "iopub.status.idle": "2025-05-21T22:09:50.609184Z",
     "shell.execute_reply": "2025-05-21T22:09:50.608103Z"
    },
    "papermill": {
     "duration": 4.31142,
     "end_time": "2025-05-21T22:09:50.610804",
     "exception": false,
     "start_time": "2025-05-21T22:09:46.299384",
     "status": "completed"
    },
    "tags": []
   },
   "outputs": [
    {
     "name": "stdout",
     "output_type": "stream",
     "text": [
      "📊 Confusion Matrix:\n",
      " [[10320  9594]\n",
      " [10452  9634]]\n",
      "\n",
      "📋 Classification Report:\n",
      "               precision    recall  f1-score   support\n",
      "\n",
      "           0       0.50      0.52      0.51     19914\n",
      "           1       0.50      0.48      0.49     20086\n",
      "\n",
      "    accuracy                           0.50     40000\n",
      "   macro avg       0.50      0.50      0.50     40000\n",
      "weighted avg       0.50      0.50      0.50     40000\n",
      "\n",
      "🎯 ROC-AUC Score: 0.5007\n"
     ]
    }
   ],
   "source": [
    "from sklearn.metrics import classification_report, confusion_matrix, roc_auc_score\n",
    "\n",
    "y_pred = rf_model.predict(X_test)\n",
    "y_proba = rf_model.predict_proba(X_test)[:, 1]\n",
    "\n",
    "print(\"📊 Confusion Matrix:\\n\", confusion_matrix(y_test, y_pred))\n",
    "print(\"\\n📋 Classification Report:\\n\", classification_report(y_test, y_pred))\n",
    "print(\"🎯 ROC-AUC Score:\", round(roc_auc_score(y_test, y_proba), 4))\n"
   ]
  },
  {
   "cell_type": "markdown",
   "id": "d657a9a2",
   "metadata": {
    "papermill": {
     "duration": 0.028619,
     "end_time": "2025-05-21T22:09:50.669957",
     "exception": false,
     "start_time": "2025-05-21T22:09:50.641338",
     "status": "completed"
    },
    "tags": []
   },
   "source": [
    "### Feature Importance Visualization"
   ]
  },
  {
   "cell_type": "code",
   "execution_count": 46,
   "id": "b4608bed",
   "metadata": {
    "execution": {
     "iopub.execute_input": "2025-05-21T22:09:50.731573Z",
     "iopub.status.busy": "2025-05-21T22:09:50.731178Z",
     "iopub.status.idle": "2025-05-21T22:09:51.202102Z",
     "shell.execute_reply": "2025-05-21T22:09:51.201209Z"
    },
    "papermill": {
     "duration": 0.506973,
     "end_time": "2025-05-21T22:09:51.206829",
     "exception": false,
     "start_time": "2025-05-21T22:09:50.699856",
     "status": "completed"
    },
    "tags": []
   },
   "outputs": [
    {
     "data": {
      "image/png": "[encoded data removed]",
      "text/plain": [
       "<Figure size 1000x600 with 1 Axes>"
      ]
     },
     "metadata": {},
     "output_type": "display_data"
    }
   ],
   "source": [
    "import pandas as pd\n",
    "import matplotlib.pyplot as plt\n",
    "\n",
    "# Get top features\n",
    "importances = pd.Series(rf_model.feature_importances_, index=X.columns)\n",
    "top_features = importances.sort_values(ascending=False).head(20)\n",
    "\n",
    "# Plot\n",
    "plt.figure(figsize=(10, 6))\n",
    "top_features.plot(kind='barh', color='darkblue')\n",
    "plt.gca().invert_yaxis()\n",
    "plt.title(\"Top 20 Features Predicting 'Very Successful' Campaigns\")\n",
    "plt.tight_layout()\n",
    "plt.show()\n"
   ]
  }
 ],
 "metadata": {
  "kaggle": {
   "accelerator": "none",
   "dataSources": [
    {
     "datasetId": 3334210,
     "sourceId": 5805272,
     "sourceType": "datasetVersion"
    }
   ],
   "dockerImageVersionId": 31040,
   "isGpuEnabled": false,
   "isInternetEnabled": true,
   "language": "python",
   "sourceType": "notebook"
  },
  "kernelspec": {
   "display_name": "Python 3",
   "language": "python",
   "name": "python3"
  },
  "language_info": {
   "codemirror_mode": {
    "name": "ipython",
    "version": 3
   },
   "file_extension": ".py",
   "mimetype": "text/x-python",
   "name": "python",
   "nbconvert_exporter": "python",
   "pygments_lexer": "ipython3",
   "version": "3.11.11"
  },
  "papermill": {
   "default_parameters": {},
   "duration": 77.820687,
   "end_time": "2025-05-21T22:09:52.074752",
   "environment_variables": {},
   "exception": null,
   "input_path": "__notebook__.ipynb",
   "output_path": "__notebook__.ipynb",
   "parameters": {},
   "start_time": "2025-05-21T22:08:34.254065",
   "version": "2.6.0"
  }
 },
 "nbformat": 4,
 "nbformat_minor": 5
}
